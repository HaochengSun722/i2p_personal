{
 "cells": [
  {
   "cell_type": "code",
   "execution_count": 7,
   "metadata": {},
   "outputs": [],
   "source": [
    "ds={'ID':    ['11667185', '11909178', '11852571', '11804855', '11808164'],\n",
    "'Case_Number':    ['JC237601', 'JC532226', 'JC462365', 'JC405161', 'JC409088'],\n",
    "'Date':    ['04/20/2019 11:00:00 PM', '12/02/2019 10:35:00 AM', '10/06/2019 04:50:00 PM', '08/23/2019 10:00:00 PM', '08/26/2019 12:00:00 AM'],\n",
    "'Primary_Type':    ['BURGLARY', 'DECEPTIVE PRACTICE', 'BATTERY', 'THEFT', 'BATTERY'],\n",
    "'Description':    ['FORCIBLE ENTRY', 'FRAUD OR CONFIDENCE GAME', 'AGGRAVATED DOMESTIC BATTERY - OTHER DANGEROUS WEAPON', 'OVER $500', 'SIMPLE'],\n",
    "'Location_Description':    ['COMMERCIAL / BUSINESS OFFICE', 'GROCERY FOOD STORE', 'CLEANING STORE', 'STREET', 'ALLEY'],\n",
    "'Arrest':    ['False', 'False', 'True', 'False', 'False'],\n",
    "'Domestic':    ['False', 'False', 'True', 'False', 'False'],\n",
    "'Year':    ['2019', '2019', '2019', '2019', '2019'],\n",
    "'Latitude':    ['41.751307057', '41.903996883000005', '41.880328606', '41.924383963000004', '41.755797128000005'],\n",
    "'Longitude':    ['-87.60346764', '-87.64323023799999', '-87.758473298', '-87.64144151299999', '-87.634426259']}"
   ]
  },
  {
   "cell_type": "code",
   "execution_count": 9,
   "metadata": {},
   "outputs": [],
   "source": [
    "######变成float小数形式\n",
    "def to_float(col_data):\n",
    "    fdata = []\n",
    "    for c in col_data:\n",
    "        fdata.append( float(c) )\n",
    "    return fdata\n",
    "\n",
    "float_cols = ['Latitude','Longitude']\n",
    "for f in float_cols:\n",
    "    ds[ f ] = to_float( ds[f] )"
   ]
  },
  {
   "cell_type": "code",
   "execution_count": 10,
   "metadata": {},
   "outputs": [
    {
     "data": {
      "text/plain": [
       "[41.751307057,\n",
       " 41.903996883000005,\n",
       " 41.880328606,\n",
       " 41.924383963000004,\n",
       " 41.755797128000005]"
      ]
     },
     "execution_count": 10,
     "metadata": {},
     "output_type": "execute_result"
    }
   ],
   "source": [
    "ds['Latitude'][:6]"
   ]
  },
  {
   "cell_type": "code",
   "execution_count": 12,
   "metadata": {},
   "outputs": [],
   "source": [
    "######变成booleans/True or False形式\n",
    "def to_bool(col_data):\n",
    "    fdata = []\n",
    "    for c in col_data:\n",
    "        fdata.append( c=='True' )\n",
    "    return fdata\n",
    "\n",
    "bool_cols = ['Arrest','Domestic']\n",
    "for b in bool_cols:\n",
    "    ds[ b ] = to_bool( ds[b] )"
   ]
  },
  {
   "cell_type": "code",
   "execution_count": 13,
   "metadata": {},
   "outputs": [
    {
     "data": {
      "text/plain": [
       "[False, False, False, False, False]"
      ]
     },
     "execution_count": 13,
     "metadata": {},
     "output_type": "execute_result"
    }
   ],
   "source": [
    "ds['Arrest'][:6]"
   ]
  },
  {
   "cell_type": "code",
   "execution_count": 23,
   "metadata": {},
   "outputs": [],
   "source": [
    "#######变成int整数形式\n",
    "def to_int(col_data):\n",
    "    fdata = []\n",
    "    for c in col_data:\n",
    "        fdata.append( int(c) )\n",
    "    return fdata\n",
    "\n",
    "int_cols = ['ID','Year']\n",
    "for i in int_cols:\n",
    "    ds[ i ] = to_int( ds[i] )"
   ]
  },
  {
   "cell_type": "code",
   "execution_count": 24,
   "metadata": {},
   "outputs": [
    {
     "data": {
      "text/plain": [
       "[2019, 2019, 2019, 2019, 2019]"
      ]
     },
     "execution_count": 24,
     "metadata": {},
     "output_type": "execute_result"
    }
   ],
   "source": [
    "ds['Year'][:6]"
   ]
  },
  {
   "cell_type": "code",
   "execution_count": 25,
   "metadata": {},
   "outputs": [
    {
     "name": "stdout",
     "output_type": "stream",
     "text": [
      "{'ID': [11667185, 11909178, 11852571, 11804855, 11808164], 'Case_Number': ['JC237601', 'JC532226', 'JC462365', 'JC405161', 'JC409088'], 'Date': ['04/20/2019 11:00:00 PM', '12/02/2019 10:35:00 AM', '10/06/2019 04:50:00 PM', '08/23/2019 10:00:00 PM', '08/26/2019 12:00:00 AM'], 'Primary_Type': ['BURGLARY', 'DECEPTIVE PRACTICE', 'BATTERY', 'THEFT', 'BATTERY'], 'Description': ['FORCIBLE ENTRY', 'FRAUD OR CONFIDENCE GAME', 'AGGRAVATED DOMESTIC BATTERY - OTHER DANGEROUS WEAPON', 'OVER $500', 'SIMPLE'], 'Location_Description': ['COMMERCIAL / BUSINESS OFFICE', 'GROCERY FOOD STORE', 'CLEANING STORE', 'STREET', 'ALLEY'], 'Arrest': [False, False, False, False, False], 'Domestic': [False, False, False, False, False], 'Year': [2019, 2019, 2019, 2019, 2019], 'Latitude': [41.751307057, 41.903996883000005, 41.880328606, 41.924383963000004, 41.755797128000005], 'Longitude': [-87.60346764, -87.64323023799999, -87.758473298, -87.64144151299999, -87.634426259]}\n"
     ]
    }
   ],
   "source": [
    "print(ds)"
   ]
  },
  {
   "cell_type": "code",
   "execution_count": 16,
   "metadata": {},
   "outputs": [],
   "source": [
    "####👆方式一#####👇方式二"
   ]
  },
  {
   "cell_type": "code",
   "execution_count": 18,
   "metadata": {},
   "outputs": [],
   "source": [
    "def to_type(cdata, ctype):\n",
    "    fdata = []\n",
    "    for c in cdata:\n",
    "        try:\n",
    "            if ctype==bool:\n",
    "                fdata.append( c=='True' )\n",
    "            else:\n",
    "                fdata.append( ctype(c) )\n",
    "        except TypeError:\n",
    "            fdata.append( c )\n",
    "    return fdata\n",
    "\n",
    "cols = {\n",
    "    'Latitude':float,\n",
    "    'Longitude':float,\n",
    "    'ID':int,\n",
    "    'Year':int,\n",
    "    'Arrest':bool,\n",
    "    'Domestic':bool,\n",
    "    'Case_Number':str,\n",
    "    'Date':str,\n",
    "    'Primary_Type':str,\n",
    "    'Description':str,\n",
    "    'Location_Description':str\n",
    "}\n",
    "\n",
    "ds2 = {}\n",
    "\n",
    "for k in ds.keys():\n",
    "    ds2[ k ] = to_type(ds[k], cols[k])"
   ]
  },
  {
   "cell_type": "code",
   "execution_count": 19,
   "metadata": {},
   "outputs": [
    {
     "name": "stdout",
     "output_type": "stream",
     "text": [
      "{'ID': [11667185, 11909178, 11852571, 11804855, 11808164], 'Case_Number': ['JC237601', 'JC532226', 'JC462365', 'JC405161', 'JC409088'], 'Date': ['04/20/2019 11:00:00 PM', '12/02/2019 10:35:00 AM', '10/06/2019 04:50:00 PM', '08/23/2019 10:00:00 PM', '08/26/2019 12:00:00 AM'], 'Primary_Type': ['BURGLARY', 'DECEPTIVE PRACTICE', 'BATTERY', 'THEFT', 'BATTERY'], 'Description': ['FORCIBLE ENTRY', 'FRAUD OR CONFIDENCE GAME', 'AGGRAVATED DOMESTIC BATTERY - OTHER DANGEROUS WEAPON', 'OVER $500', 'SIMPLE'], 'Location_Description': ['COMMERCIAL / BUSINESS OFFICE', 'GROCERY FOOD STORE', 'CLEANING STORE', 'STREET', 'ALLEY'], 'Arrest': [False, False, False, False, False], 'Domestic': [False, False, False, False, False], 'Year': [2019, 2019, 2019, 2019, 2019], 'Latitude': [41.751307057, 41.903996883000005, 41.880328606, 41.924383963000004, 41.755797128000005], 'Longitude': [-87.60346764, -87.64323023799999, -87.758473298, -87.64144151299999, -87.634426259]}\n"
     ]
    }
   ],
   "source": [
    "print(ds2)"
   ]
  },
  {
   "cell_type": "code",
   "execution_count": 20,
   "metadata": {},
   "outputs": [
    {
     "name": "stdout",
     "output_type": "stream",
     "text": [
      "['11667185', '11909178', '11852571', '11804855', '11808164']\n",
      "['JC237601', 'JC532226', 'JC462365', 'JC405161', 'JC409088']\n",
      "['04/20/2019 11:00:00 PM', '12/02/2019 10:35:00 AM', '10/06/2019 04:50:00 PM', '08/23/2019 10:00:00 PM', '08/26/2019 12:00:00 AM']\n",
      "['BURGLARY', 'DECEPTIVE PRACTICE', 'BATTERY', 'THEFT', 'BATTERY']\n",
      "['FORCIBLE ENTRY', 'FRAUD OR CONFIDENCE GAME', 'AGGRAVATED DOMESTIC BATTERY - OTHER DANGEROUS WEAPON', 'OVER $500', 'SIMPLE']\n",
      "['COMMERCIAL / BUSINESS OFFICE', 'GROCERY FOOD STORE', 'CLEANING STORE', 'STREET', 'ALLEY']\n",
      "[False, False, False, False, False]\n",
      "[False, False, False, False, False]\n",
      "['2019', '2019', '2019', '2019', '2019']\n",
      "[41.751307057, 41.903996883000005, 41.880328606, 41.924383963000004, 41.755797128000005]\n",
      "[-87.60346764, -87.64323023799999, -87.758473298, -87.64144151299999, -87.634426259]\n"
     ]
    }
   ],
   "source": []
  }
 ],
 "metadata": {
  "kernelspec": {
   "display_name": "Python 3",
   "language": "python",
   "name": "python3"
  },
  "language_info": {
   "codemirror_mode": {
    "name": "ipython",
    "version": 3
   },
   "file_extension": ".py",
   "mimetype": "text/x-python",
   "name": "python",
   "nbconvert_exporter": "python",
   "pygments_lexer": "ipython3",
   "version": "3.7.8"
  }
 },
 "nbformat": 4,
 "nbformat_minor": 4
}
