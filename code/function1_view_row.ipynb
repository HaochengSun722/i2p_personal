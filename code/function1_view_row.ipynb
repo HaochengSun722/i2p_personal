{
 "cells": [
  {
   "cell_type": "code",
   "execution_count": 22,
   "metadata": {},
   "outputs": [],
   "source": [
    "from urllib.request import urlopen##used to open url\n",
    "import csv"
   ]
  },
  {
   "cell_type": "code",
   "execution_count": 23,
   "metadata": {},
   "outputs": [
    {
     "name": "stdout",
     "output_type": "stream",
     "text": [
      "datafile variable is of type: 'list'.\n",
      "\n",
      "<class 'str'>\n"
     ]
    }
   ],
   "source": [
    "url = \"https://github.com/jreades/i2p/raw/master/data/2020-08-24-sample-listings-simple.csv\"\n",
    "\n",
    "response = urlopen(url)\n",
    "datafile = response.read().decode('utf-8').splitlines()\n",
    "\n",
    "print(\"datafile variable is of type: '\" + datafile.__class__.__name__ + \"'.\\n\")\n",
    "print(type(url))"
   ]
  },
  {
   "cell_type": "code",
   "execution_count": 24,
   "metadata": {},
   "outputs": [],
   "source": [
    "def view_row(datalist):\n",
    "    row_viewer= input(f\"\"\"\n",
    "Which row would you like to read?\n",
    "<Total rows:{len(datalist)}>\n",
    "<If you want to view a range of data, please enter '0'.>\n",
    "\"\"\")\n",
    "\n",
    "    if int(row_viewer) > len(datalist) or int(row_viewer)<0:\n",
    "        print (\"Are you kidding me? There are only\",len(datalist),\"rows.\")\n",
    "    elif int(row_viewer) < len(datalist) and int(row_viewer)>0:\n",
    "        num = int(row_viewer)\n",
    "        print(f\"\"\"\n",
    "Here is row {num}--\n",
    "{datalist[num-1]}\n",
    "\"\"\")\n",
    "    elif int(row_viewer) == 0:\n",
    "        area_min = input(\"Please enter the low limit of the range.\")\n",
    "        area_max = input(\"Please enter the high limit of the range\")\n",
    "        if int(area_min)>0 and int(area_min)<=len(datalist) and int(area_max)>0 and int(area_max)<=len(datalist):\n",
    "            low = int(area_min)-1\n",
    "            high = int(area_max)\n",
    "            for x in range (low,high):\n",
    "                print(f\"\"\"\n",
    "Row {x+1}--\n",
    "{datalist[x]}\"\"\")\n",
    "                x +=1\n",
    "        else:\n",
    "            print(\"Wrong!\")\n",
    "    else:\n",
    "        print(\"Wrong!\")\n",
    "    return"
   ]
  },
  {
   "cell_type": "code",
   "execution_count": 26,
   "metadata": {},
   "outputs": [
    {
     "name": "stdin",
     "output_type": "stream",
     "text": [
      "\n",
      "Which row would you like to read?\n",
      "<Total rows:101>\n",
      "<If you want to view a range of data, please enter '0'.>\n",
      " 0\n",
      "Please enter the low limit of the range. 12\n",
      "Please enter the high limit of the range 14\n"
     ]
    },
    {
     "name": "stdout",
     "output_type": "stream",
     "text": [
      "\n",
      "Row 12--\n",
      "32175015,Warm 1BR garden flat in leafy Hampstead (Veeve),137094377,Veeve,2017-06-26,51.547,-0.17704,Entire apartment,Entire home/apt,4,,1.0,1.0,$166.00,4,1125,246,0,267\n",
      "\n",
      "Row 13--\n",
      "38406649,Single  in NW2,192355301,Nilgun,2018-05-29,51.56214,-0.22505,Private room in house,Private room,1,,1.0,1.0,$29.00,3,1125,363,1,3\n",
      "\n",
      "Row 14--\n",
      "21315952,single bedroom near heathrow london free parking,154284698,Mark,2017-10-12,51.43955,-0.40618,Private room,Private room,1,,1.0,1.0,$20.00,3,7,89,69,1\n"
     ]
    }
   ],
   "source": [
    "view_row(datafile)"
   ]
  }
 ],
 "metadata": {
  "kernelspec": {
   "display_name": "Python 3",
   "language": "python",
   "name": "python3"
  },
  "language_info": {
   "codemirror_mode": {
    "name": "ipython",
    "version": 3
   },
   "file_extension": ".py",
   "mimetype": "text/x-python",
   "name": "python",
   "nbconvert_exporter": "python",
   "pygments_lexer": "ipython3",
   "version": "3.7.8"
  }
 },
 "nbformat": 4,
 "nbformat_minor": 4
}
