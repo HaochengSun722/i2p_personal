{
 "cells": [
  {
   "cell_type": "code",
   "execution_count": 5,
   "metadata": {},
   "outputs": [
    {
     "data": {
      "text/plain": [
       "{'a', 'd', 'e', 'f', 'j', 'q', 'r', 's'}"
      ]
     },
     "execution_count": 5,
     "metadata": {},
     "output_type": "execute_result"
    }
   ],
   "source": [
    "x=set('asdasdjf')\n",
    "y=set('qsfrfea')\n",
    "x|y"
   ]
  },
  {
   "cell_type": "code",
   "execution_count": 67,
   "metadata": {},
   "outputs": [
    {
     "name": "stdout",
     "output_type": "stream",
     "text": [
      "5 is less than 6\n"
     ]
    }
   ],
   "source": [
    "x = '5'\n",
    "y = str(6)\n",
    "if x < y:\n",
    "    print(x + \" is less than \" + y)\n",
    "else:\n",
    "    print(\"x is not less than y\")"
   ]
  },
  {
   "cell_type": "code",
   "execution_count": 17,
   "metadata": {},
   "outputs": [
    {
     "data": {
      "text/plain": [
       "False"
      ]
     },
     "execution_count": 17,
     "metadata": {},
     "output_type": "execute_result"
    }
   ],
   "source": [
    "b=4\n",
    "c=5\n",
    "d=3\n",
    "(c<b)or(b<d)"
   ]
  },
  {
   "cell_type": "code",
   "execution_count": 62,
   "metadata": {},
   "outputs": [
    {
     "name": "stdout",
     "output_type": "stream",
     "text": [
      "[5, 7, 'dog']\n",
      "['bear', 6]\n"
     ]
    }
   ],
   "source": [
    "list1=[1, 5, 7, 'dog', 'cat']\n",
    "List2 =[2, 'bear', 6, 'monkey']\n",
    "\n",
    "print(list1[1:-1])\n",
    "print(List2[1:-1])"
   ]
  },
  {
   "cell_type": "code",
   "execution_count": 22,
   "metadata": {},
   "outputs": [
    {
     "name": "stdout",
     "output_type": "stream",
     "text": [
      "Rome\n"
     ]
    }
   ],
   "source": [
    "myList = ['New York', 'London', 'Tokyo', 'Rome']\n",
    "myList.sort()\n",
    "myList.reverse()\n",
    "print(myList[1])"
   ]
  },
  {
   "cell_type": "code",
   "execution_count": 26,
   "metadata": {},
   "outputs": [
    {
     "name": "stdout",
     "output_type": "stream",
     "text": [
      "x is less than 6\n"
     ]
    }
   ],
   "source": [
    "x = 5\n",
    "if x > 6:\n",
    "    print(\"x is greater than 6\")\n",
    "elif x < 6:\n",
    "    print(\"x is less than 6\") \n",
    "else:\n",
    "    print(\"x equals 6\")\n",
    "    "
   ]
  },
  {
   "cell_type": "code",
   "execution_count": null,
   "metadata": {},
   "outputs": [],
   "source": [
    "wotsit = 0.0\n",
    "cheese_doodles = len(myList)\n",
    "for thing in myList :\n",
    "    wotsit += thing\n",
    "print(wotsit/cheese_doodles)"
   ]
  },
  {
   "cell_type": "code",
   "execution_count": 28,
   "metadata": {},
   "outputs": [],
   "source": [
    "x = 6\n",
    "if x != 6: \n",
    "      print(\"Hello world!\")"
   ]
  },
  {
   "cell_type": "code",
   "execution_count": 32,
   "metadata": {},
   "outputs": [
    {
     "name": "stdout",
     "output_type": "stream",
     "text": [
      "8.377580409572781\n",
      "8.377580409572781\n"
     ]
    }
   ],
   "source": [
    "import math\n",
    "v=1\n",
    "h=1\n",
    "r=2\n",
    "pi=math.pi\n",
    "v2 = (2/3 * h) * (pi * r**2)\n",
    "v3=(2/3 * h) * (pi * (r**2))\n",
    "print(v2)\n",
    "print(v3)"
   ]
  },
  {
   "cell_type": "code",
   "execution_count": 70,
   "metadata": {},
   "outputs": [
    {
     "name": "stdout",
     "output_type": "stream",
     "text": [
      "The capital of France is Paris\n"
     ]
    }
   ],
   "source": [
    "def theCapital( country='France' ):\n",
    "    if country == 'UK':\n",
    "        return 'London'\n",
    "    elif country == 'USA':\n",
    "        return 'Washington DC'\n",
    "    elif country == 'France':\n",
    "        return 'Paris'\n",
    "    else:\n",
    "        return 'Unknown City'\n",
    "\n",
    "print(\"The capital of France is \" + theCapital())"
   ]
  },
  {
   "cell_type": "code",
   "execution_count": 45,
   "metadata": {},
   "outputs": [],
   "source": [
    "## NO optional arguments\n",
    "def test_a(x,y,z):\n",
    "    print(\"test_a : x = {}, y = {}, z = {} \".format(x ,y ,z))\n",
    "\n",
    "## One optional argument at the end\n",
    "def test_b(x, y, z = 22):\n",
    "    print(\"test_b : x = {}, y = {}, z = {} \".format(x ,y ,z))\n",
    "\n",
    "## TWO optional arguments at the end\n",
    "def test_c(x, y = 11, z = 22):\n",
    "    print(\"test_c : x = {}, y = {}, z = {} \".format(x ,y ,z))"
   ]
  },
  {
   "cell_type": "code",
   "execution_count": 54,
   "metadata": {},
   "outputs": [
    {
     "name": "stdout",
     "output_type": "stream",
     "text": [
      "test_a : x = 11, y = 11, z = 11 \n",
      "test_b : x = 11, y = 11, z = 22 \n"
     ]
    },
    {
     "data": {
      "text/plain": [
       "'Washington DC'"
      ]
     },
     "execution_count": 54,
     "metadata": {},
     "output_type": "execute_result"
    }
   ],
   "source": [
    "test_a(11,11,11)\n",
    "test_b(11,11)\n",
    "theCapital(country='USA')"
   ]
  },
  {
   "cell_type": "code",
   "execution_count": 63,
   "metadata": {},
   "outputs": [
    {
     "name": "stdout",
     "output_type": "stream",
     "text": [
      "2\n",
      "7\n",
      "0\n"
     ]
    }
   ],
   "source": [
    "x = 1\n",
    "y = 1\n",
    "myList = [ 5, 7, 0, 3, 2 ]\n",
    "print(myList[x-2])\n",
    "print(myList[x])\n",
    "print(myList[x+y])"
   ]
  }
 ],
 "metadata": {
  "kernelspec": {
   "display_name": "Python 3",
   "language": "python",
   "name": "python3"
  },
  "language_info": {
   "codemirror_mode": {
    "name": "ipython",
    "version": 3
   },
   "file_extension": ".py",
   "mimetype": "text/x-python",
   "name": "python",
   "nbconvert_exporter": "python",
   "pygments_lexer": "ipython3",
   "version": "3.7.8"
  }
 },
 "nbformat": 4,
 "nbformat_minor": 4
}
