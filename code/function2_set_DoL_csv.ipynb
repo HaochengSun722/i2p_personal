{
 "cells": [
  {
   "cell_type": "code",
   "execution_count": 1,
   "metadata": {},
   "outputs": [],
   "source": [
    "from urllib.request import urlopen"
   ]
  },
  {
   "cell_type": "code",
   "execution_count": 2,
   "metadata": {},
   "outputs": [
    {
     "name": "stdout",
     "output_type": "stream",
     "text": [
      "datafile variable is of type: 'list'.\n",
      "\n",
      "<class 'str'>\n"
     ]
    }
   ],
   "source": [
    "url = \"https://github.com/jreades/i2p/raw/master/data/2020-08-24-sample-listings-simple.csv\"\n",
    "\n",
    "response = urlopen(url)\n",
    "datafile = response.read().decode('utf-8').splitlines()\n",
    "\n",
    "print(\"datafile variable is of type: '\" + datafile.__class__.__name__ + \"'.\\n\")\n",
    "print(type(url))"
   ]
  },
  {
   "cell_type": "code",
   "execution_count": 3,
   "metadata": {},
   "outputs": [
    {
     "name": "stdout",
     "output_type": "stream",
     "text": [
      "urlData has 101 rows and 19 columns.\n"
     ]
    }
   ],
   "source": [
    "import csv \n",
    "\n",
    "urlData = [] # Somewhere to store the data\n",
    "\n",
    "csvfile = csv.reader(datafile)\n",
    "\n",
    "for row in csvfile:              \n",
    "    urlData.append( row )\n",
    "\n",
    "print(f\"urlData has {len(urlData)} rows and {len(urlData[0])} columns.\")"
   ]
  },
  {
   "cell_type": "code",
   "execution_count": 10,
   "metadata": {},
   "outputs": [
    {
     "data": {
      "text/plain": [
       "['id',\n",
       " 'name',\n",
       " 'host_id',\n",
       " 'host_name',\n",
       " 'host_since',\n",
       " 'latitude',\n",
       " 'longitude',\n",
       " 'property_type',\n",
       " 'room_type',\n",
       " 'accommodates',\n",
       " 'bathrooms',\n",
       " 'bedrooms',\n",
       " 'beds',\n",
       " 'price',\n",
       " 'minimum_nights',\n",
       " 'maximum_nights',\n",
       " 'availability_365',\n",
       " 'number_of_reviews',\n",
       " 'calculated_host_listings_count']"
      ]
     },
     "execution_count": 10,
     "metadata": {},
     "output_type": "execute_result"
    }
   ],
   "source": [
    "urlData[0]"
   ]
  },
  {
   "cell_type": "code",
   "execution_count": 5,
   "metadata": {},
   "outputs": [],
   "source": [
    "ds = {}\n",
    "col_names = urlData[0]\n",
    "for c in col_names:\n",
    "    ds[c] = []###创建一个只有key,value都是空list的dict"
   ]
  },
  {
   "cell_type": "code",
   "execution_count": 6,
   "metadata": {},
   "outputs": [],
   "source": [
    "for r in urlData[1:len(urlData)]:\n",
    "    for c in range(0,len(col_names)):\n",
    "        ds[ col_names[c] ].append( r[c] )"
   ]
  },
  {
   "cell_type": "code",
   "execution_count": 10,
   "metadata": {},
   "outputs": [
    {
     "name": "stdout",
     "output_type": "stream",
     "text": [
      "['25339003', '40259218', '20097666', '40868766', '29649371', '6650370', '42405264', '13501585', '36162322', '20631005', '32175015', '38406649', '21315952', '16361918', '39556787', '26542484', '21744434', '4059945', '5345295', '44257873', '15768207', '1683278', '24386203', '39349912', '29726372', '34713135', '424511', '2465026', '4743124', '25134847', '39437321', '35825237', '1474317', '28652501', '6868537', '726669', '20821143', '10408740', '14309812', '27866278', '40885187', '28394803', '8680525', '13433229', '37215315', '39432597', '42843489', '42337868', '25451074', '39817130', '41950973', '42513545', '27026005', '1114488', '32253983', '39911815', '39225196', '18789292', '13289226', '29502574', '20893587', '23523880', '10880757', '44069559', '34556153', '15307633', '12263797', '32347496', '668819', '29896303', '13663264', '40657332', '29230752', '32842985', '1043759', '22987867', '11707553', '20238937', '42106572', '31814561', '12195983', '41276640', '19036976', '19246652', '41665916', '29752790', '38222036', '37427933', '20916454', '29273072', '8948392', '38322409', '24146292', '21996251', '22681593', '33923856', '18734228', '41376268', '34560337', '40373464']\n"
     ]
    }
   ],
   "source": [
    "print(ds['id'])"
   ]
  },
  {
   "cell_type": "code",
   "execution_count": 26,
   "metadata": {},
   "outputs": [
    {
     "ename": "KeyError",
     "evalue": "'Arrest'",
     "output_type": "error",
     "traceback": [
      "\u001b[0;31m---------------------------------------------------------------------------\u001b[0m",
      "\u001b[0;31mKeyError\u001b[0m                                  Traceback (most recent call last)",
      "\u001b[0;32m<ipython-input-26-fbf0223c7a0e>\u001b[0m in \u001b[0;36m<module>\u001b[0;34m\u001b[0m\n\u001b[1;32m      8\u001b[0m \u001b[0mbool_cols\u001b[0m \u001b[0;34m=\u001b[0m \u001b[0;34m[\u001b[0m\u001b[0;34m'Arrest'\u001b[0m\u001b[0;34m,\u001b[0m\u001b[0;34m'Domestic'\u001b[0m\u001b[0;34m]\u001b[0m\u001b[0;34m\u001b[0m\u001b[0;34m\u001b[0m\u001b[0m\n\u001b[1;32m      9\u001b[0m \u001b[0;32mfor\u001b[0m \u001b[0mb\u001b[0m \u001b[0;32min\u001b[0m \u001b[0mbool_cols\u001b[0m\u001b[0;34m:\u001b[0m\u001b[0;34m\u001b[0m\u001b[0;34m\u001b[0m\u001b[0m\n\u001b[0;32m---> 10\u001b[0;31m     \u001b[0mds\u001b[0m\u001b[0;34m[\u001b[0m \u001b[0mb\u001b[0m \u001b[0;34m]\u001b[0m \u001b[0;34m=\u001b[0m \u001b[0mto_bool\u001b[0m\u001b[0;34m(\u001b[0m \u001b[0mds\u001b[0m\u001b[0;34m[\u001b[0m\u001b[0mb\u001b[0m\u001b[0;34m]\u001b[0m \u001b[0;34m)\u001b[0m\u001b[0;34m\u001b[0m\u001b[0;34m\u001b[0m\u001b[0m\n\u001b[0m",
      "\u001b[0;31mKeyError\u001b[0m: 'Arrest'"
     ]
    }
   ],
   "source": [
    "######变成booleans/形式"
   ]
  },
  {
   "cell_type": "code",
   "execution_count": 24,
   "metadata": {},
   "outputs": [
    {
     "name": "stdout",
     "output_type": "stream",
     "text": [
      "[51.52865, 51.52594000000001, 51.51743, 51.48951, 51.52007, 51.48863, 51.56214, 51.55646, 51.51228, 51.47273, 51.547, 51.56214, 51.43955, 51.53099, 51.42263, 51.46852, 51.46597, 51.51528, 51.43855, 51.5166, 51.43917, 51.49193, 51.66791, 51.53391, 51.47765, 51.52908, 51.51367, 51.47604000000001, 51.55571, 51.51895, 51.49142, 51.59264, 51.5251, 51.43713, 51.54192000000001, 51.49142, 51.49344, 51.54198, 51.51588, 51.53629, 51.49086, 51.47749, 51.48067, 51.39508, 51.49521, 51.55014, 51.4787, 51.55408, 51.54781, 51.51466, 51.52378, 51.58043, 51.47356, 51.5489, 51.50297, 51.4776, 51.51981, 51.47302, 51.472, 51.53121, 51.4367, 51.43119, 51.47139, 51.55423, 51.48087, 51.44118, 51.41899, 51.58425, 51.55851, 51.41674, 51.49228, 51.48087, 51.54222, 51.53159, 51.52146, 51.47473, 51.42829, 51.52749, 51.51376, 51.38298, 51.49425, 51.55201, 51.552, 51.4514, 51.5492, 51.51461, 51.51704, 51.55341, 51.49003, 51.48769, 51.53855, 51.49341, 51.59852, 51.55031, 51.46763, 51.61141, 51.48843, 51.47631, 51.51818, 51.46497]\n"
     ]
    }
   ],
   "source": [
    "###变成整数形式\n",
    "def to_int(col_data):\n",
    "    fdata = []\n",
    "    for c in col_data:\n",
    "        fdata.append( int(c) )\n",
    "    return fdata\n",
    "\n",
    "int_cols = ['ID','Year']\n",
    "for i in int_cols:\n",
    "    ds[ i ] = to_int( ds[i] )"
   ]
  }
 ],
 "metadata": {
  "kernelspec": {
   "display_name": "Python 3",
   "language": "python",
   "name": "python3"
  },
  "language_info": {
   "codemirror_mode": {
    "name": "ipython",
    "version": 3
   },
   "file_extension": ".py",
   "mimetype": "text/x-python",
   "name": "python",
   "nbconvert_exporter": "python",
   "pygments_lexer": "ipython3",
   "version": "3.7.8"
  }
 },
 "nbformat": 4,
 "nbformat_minor": 4
}
