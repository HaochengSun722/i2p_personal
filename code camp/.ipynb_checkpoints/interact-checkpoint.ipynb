{
 "cells": [
  {
   "cell_type": "code",
   "execution_count": 3,
   "metadata": {},
   "outputs": [
    {
     "name": "stdin",
     "output_type": "stream",
     "text": [
      "input: 1\n"
     ]
    },
    {
     "data": {
      "text/plain": [
       "str"
      ]
     },
     "execution_count": 3,
     "metadata": {},
     "output_type": "execute_result"
    }
   ],
   "source": [
    "a = input(\"input:\")\n",
    "input:123                  # 输入整数\n",
    "type(a)\n"
   ]
  },
  {
   "cell_type": "code",
   "execution_count": null,
   "metadata": {},
   "outputs": [],
   "source": [
    "# variable with the City borough's total population (in thousands)\n",
    "city_of_London = 7.375\n",
    "# City borough's map marker\n",
    "city_coords = \"http://www.openstreetmap.org/?mlat=51.5151&mlon=-0.0933#map=14/51.5151/-0.0933\"\n",
    "\n",
    "# Other boroughs\n",
    "camden = 220.338\n",
    "camden_coords = \"http://www.openstreetmap.org/?mlat=51.5424&mlon=-0.2252#map=12/51.5424/-0.2252\"\n",
    "hackney = 246.270\n",
    "hackney_coords = \"http://www.openstreetmap.org/?mlat=51.5432&mlon=-0.0709#map=13/51.5432/-0.0709\"\n",
    "lambeth = 303.086\n",
    "lambeth_coords = \"http://www.openstreetmap.org/?mlat=51.5013&mlon=-0.1172#map=13/51.5013/-0.1172\"\n",
    "\n",
    "# Let's ask the user for some input\n",
    "# and store his answer\n",
    "user_input = input(\"\"\"\n",
    "Choose a neighbourhood by type the corresponding number:\n",
    "1- City of London\n",
    "2- Lambeth\n",
    "3- Camden\n",
    "4- Hackney\n",
    "\"\"\")\n",
    "\n",
    "# Arbitrarily assign case 1 to City of London borough\n",
    "\n",
    "if (user_input == '1'):    \n",
    "    choosen_borough = city_of_London\n",
    "    borough_coordinates = city_coords \n",
    "    # print the output\n",
    "    # notice we are casting the user answer to string\n",
    "    print(\"You have choosen number : \"+ str(user_input))\n",
    "    print(\"The corresponding borough has a population of \"+ str(choosen_borough) +\" thousand people\")\n",
    "    print(\"Visit the borough clicking here: \" + borough_coordinates)\n",
    "elif(user_input == '2'):    \n",
    "    choosen_borough = lambeth\n",
    "    borough_coordinates = lambeth_coords \n",
    "    # print the output\n",
    "    # notice we are casting the user answer to string\n",
    "    print(\"You have choosen number : \"+ str(user_input))\n",
    "    print(\"The corresponding borough has a population of \"+ str(choosen_borough) +\" thousand people\")\n",
    "    print(\"Visit the borough clicking here: \" + borough_coordinates)\n",
    "elif(user_input == '3'):    \n",
    "    choosen_borough = camden\n",
    "    borough_coordinates = camden_coords \n",
    "    # print the output\n",
    "    # notice we are casting the user answer to string\n",
    "    print(\"You have choosen number : \"+ str(user_input))\n",
    "    print(\"The corresponding borough has a population of \"+ str(choosen_borough) +\" thousand people\")\n",
    "    print(\"Visit the borough clicking here: \" + borough_coordinates)\n",
    "elif(user_input == '4'):    \n",
    "    choosen_borough = hackney\n",
    "    borough_coordinates = hackney_coords \n",
    "    # print the output\n",
    "    # notice we are casting the user answer to string\n",
    "    print(\"You have choosen number : \"+ str(user_input))\n",
    "    print(\"The corresponding borough has a population of \"+ str(choosen_borough) +\" thousand people\")\n",
    "    print(\"Visit the borough clicking here: \" + borough_coordinates)    \n",
    "    \n",
    "else:\n",
    "    print(\"That's not in my system. Please try again!\")"
   ]
  }
 ],
 "metadata": {
  "kernelspec": {
   "display_name": "Python 3",
   "language": "python",
   "name": "python3"
  },
  "language_info": {
   "codemirror_mode": {
    "name": "ipython",
    "version": 3
   },
   "file_extension": ".py",
   "mimetype": "text/x-python",
   "name": "python",
   "nbconvert_exporter": "python",
   "pygments_lexer": "ipython3",
   "version": "3.7.8"
  }
 },
 "nbformat": 4,
 "nbformat_minor": 4
}
