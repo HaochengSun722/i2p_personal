{
 "cells": [
  {
   "cell_type": "code",
   "execution_count": 6,
   "metadata": {},
   "outputs": [
    {
     "name": "stdout",
     "output_type": "stream",
     "text": [
      "Requirement already satisfied: pandas in /opt/conda/envs/sds2020/lib/python3.7/site-packages (1.1.2)\n",
      "Requirement already satisfied: pytz>=2017.2 in /opt/conda/envs/sds2020/lib/python3.7/site-packages (from pandas) (2020.1)\n",
      "Requirement already satisfied: python-dateutil>=2.7.3 in /opt/conda/envs/sds2020/lib/python3.7/site-packages (from pandas) (2.8.0)\n",
      "Requirement already satisfied: numpy>=1.15.4 in /opt/conda/envs/sds2020/lib/python3.7/site-packages (from pandas) (1.19.1)\n",
      "Requirement already satisfied: six>=1.5 in /opt/conda/envs/sds2020/lib/python3.7/site-packages (from python-dateutil>=2.7.3->pandas) (1.15.0)\n"
     ]
    }
   ],
   "source": [
    "!pip install pandas\n",
    "##当！在前面时，则会像终端terminal一样运行代码"
   ]
  },
  {
   "cell_type": "code",
   "execution_count": 7,
   "metadata": {},
   "outputs": [
    {
     "name": "stdout",
     "output_type": "stream",
     "text": [
      "1.1.2\n"
     ]
    }
   ],
   "source": [
    "import pandas as pd      # import package\n",
    "import csv\n",
    "from urllib.request import urlopen\n",
    "print(pd.__version__)"
   ]
  },
  {
   "cell_type": "code",
   "execution_count": 11,
   "metadata": {},
   "outputs": [
    {
     "data": {
      "text/plain": [
       "one        0\n",
       "two        1\n",
       "three      2\n",
       "four       3\n",
       "five       4\n",
       "six        5\n",
       "seven    5.5\n",
       "eight     hi\n",
       "dtype: object"
      ]
     },
     "execution_count": 11,
     "metadata": {},
     "output_type": "execute_result"
    }
   ],
   "source": [
    "pd.Series([0,1,2,3,4,5,5.5,'hi'],index = ['one','two','three','four','five','six','seven','eight'])"
   ]
  },
  {
   "cell_type": "code",
   "execution_count": 12,
   "metadata": {},
   "outputs": [
    {
     "name": "stdout",
     "output_type": "stream",
     "text": [
      "    state  year  pop\n",
      "0    Ohio  2000  1.5\n",
      "1    Ohio  2001  1.7\n",
      "2    Ohio  2002  3.6\n",
      "3  Nevada  2001  2.4\n",
      "4  Nevada  2002  2.9\n",
      "5  Nevada  2003  3.2\n"
     ]
    }
   ],
   "source": [
    "data = {'state': ['Ohio', 'Ohio', 'Ohio', 'Nevada', 'Nevada', 'Nevada'],\n",
    "        'year': [2000, 2001, 2002, 2001, 2002, 2003],\n",
    "        'pop': [1.5, 1.7, 3.6, 2.4, 2.9, 3.2]}\n",
    "df1= pd.DataFrame(data)\n",
    "print(df1)"
   ]
  },
  {
   "cell_type": "code",
   "execution_count": 13,
   "metadata": {},
   "outputs": [],
   "source": [
    "df1.set_index('state',inplace = True)"
   ]
  },
  {
   "cell_type": "code",
   "execution_count": 14,
   "metadata": {},
   "outputs": [
    {
     "name": "stdout",
     "output_type": "stream",
     "text": [
      "        year  pop\n",
      "state            \n",
      "Ohio    2000  1.5\n",
      "Ohio    2001  1.7\n",
      "Ohio    2002  3.6\n",
      "Nevada  2001  2.4\n",
      "Nevada  2002  2.9\n",
      "Nevada  2003  3.2\n"
     ]
    }
   ],
   "source": [
    "print(df1)"
   ]
  },
  {
   "cell_type": "code",
   "execution_count": null,
   "metadata": {},
   "outputs": [],
   "source": [
    "#*pandas的基本组成是series和dataframe,多个series的整合就是dataframe."
   ]
  },
  {
   "cell_type": "code",
   "execution_count": 15,
   "metadata": {},
   "outputs": [
    {
     "name": "stdout",
     "output_type": "stream",
     "text": [
      "<class 'pandas.core.frame.DataFrame'>\n",
      "['ID' 'Case Number' 'Date' 'Primary Type' 'Description'\n",
      " 'Location Description' 'Arrest' 'Domestic' 'Year' 'Latitude' 'Longitude']\n"
     ]
    }
   ],
   "source": [
    "   \n",
    "# Bitly link for: data/2019-sample-crime.csv\n",
    "url='https://raw.githubusercontent.com/jreades/i2p/master/data/2019-sample-crime.csv'\n",
    "df = pd.read_csv(url)    # load a (remote) CSV,header=NONE意为着第一行内容为空，并被0~10代替\n",
    "print(type(df))                 # not simple data type\n",
    "print(df.columns.values) # column names"
   ]
  },
  {
   "cell_type": "code",
   "execution_count": 16,
   "metadata": {},
   "outputs": [
    {
     "data": {
      "text/html": [
       "<div>\n",
       "<style scoped>\n",
       "    .dataframe tbody tr th:only-of-type {\n",
       "        vertical-align: middle;\n",
       "    }\n",
       "\n",
       "    .dataframe tbody tr th {\n",
       "        vertical-align: top;\n",
       "    }\n",
       "\n",
       "    .dataframe thead th {\n",
       "        text-align: right;\n",
       "    }\n",
       "</style>\n",
       "<table border=\"1\" class=\"dataframe\">\n",
       "  <thead>\n",
       "    <tr style=\"text-align: right;\">\n",
       "      <th></th>\n",
       "      <th>ID</th>\n",
       "      <th>Year</th>\n",
       "      <th>Latitude</th>\n",
       "      <th>Longitude</th>\n",
       "    </tr>\n",
       "  </thead>\n",
       "  <tbody>\n",
       "    <tr>\n",
       "      <th>count</th>\n",
       "      <td>1.000000e+02</td>\n",
       "      <td>100.0</td>\n",
       "      <td>100.000000</td>\n",
       "      <td>100.000000</td>\n",
       "    </tr>\n",
       "    <tr>\n",
       "      <th>mean</th>\n",
       "      <td>1.172479e+07</td>\n",
       "      <td>2019.0</td>\n",
       "      <td>41.845500</td>\n",
       "      <td>-87.674197</td>\n",
       "    </tr>\n",
       "    <tr>\n",
       "      <th>std</th>\n",
       "      <td>1.056492e+05</td>\n",
       "      <td>0.0</td>\n",
       "      <td>0.083776</td>\n",
       "      <td>0.055893</td>\n",
       "    </tr>\n",
       "    <tr>\n",
       "      <th>min</th>\n",
       "      <td>1.155667e+07</td>\n",
       "      <td>2019.0</td>\n",
       "      <td>41.666091</td>\n",
       "      <td>-87.836650</td>\n",
       "    </tr>\n",
       "    <tr>\n",
       "      <th>25%</th>\n",
       "      <td>1.163515e+07</td>\n",
       "      <td>2019.0</td>\n",
       "      <td>41.773812</td>\n",
       "      <td>-87.716710</td>\n",
       "    </tr>\n",
       "    <tr>\n",
       "      <th>50%</th>\n",
       "      <td>1.171914e+07</td>\n",
       "      <td>2019.0</td>\n",
       "      <td>41.866925</td>\n",
       "      <td>-87.669222</td>\n",
       "    </tr>\n",
       "    <tr>\n",
       "      <th>75%</th>\n",
       "      <td>1.180549e+07</td>\n",
       "      <td>2019.0</td>\n",
       "      <td>41.902087</td>\n",
       "      <td>-87.631061</td>\n",
       "    </tr>\n",
       "    <tr>\n",
       "      <th>max</th>\n",
       "      <td>1.193442e+07</td>\n",
       "      <td>2019.0</td>\n",
       "      <td>42.019399</td>\n",
       "      <td>-87.551446</td>\n",
       "    </tr>\n",
       "  </tbody>\n",
       "</table>\n",
       "</div>"
      ],
      "text/plain": [
       "                 ID    Year    Latitude   Longitude\n",
       "count  1.000000e+02   100.0  100.000000  100.000000\n",
       "mean   1.172479e+07  2019.0   41.845500  -87.674197\n",
       "std    1.056492e+05     0.0    0.083776    0.055893\n",
       "min    1.155667e+07  2019.0   41.666091  -87.836650\n",
       "25%    1.163515e+07  2019.0   41.773812  -87.716710\n",
       "50%    1.171914e+07  2019.0   41.866925  -87.669222\n",
       "75%    1.180549e+07  2019.0   41.902087  -87.631061\n",
       "max    1.193442e+07  2019.0   42.019399  -87.551446"
      ]
     },
     "execution_count": 16,
     "metadata": {},
     "output_type": "execute_result"
    }
   ],
   "source": [
    "df.describe() # Information about each Series(including count,mean,std,min,四分位点, 中点, max)"
   ]
  },
  {
   "cell_type": "code",
   "execution_count": 33,
   "metadata": {},
   "outputs": [
    {
     "name": "stdout",
     "output_type": "stream",
     "text": [
      "<class 'pandas.core.frame.DataFrame'>\n",
      "RangeIndex: 100 entries, 0 to 99\n",
      "Data columns (total 11 columns):\n",
      " #   Column                Non-Null Count  Dtype  \n",
      "---  ------                --------------  -----  \n",
      " 0   ID                    100 non-null    int64  \n",
      " 1   Case Number           100 non-null    object \n",
      " 2   Date                  100 non-null    object \n",
      " 3   Primary Type          100 non-null    object \n",
      " 4   Description           100 non-null    object \n",
      " 5   Location Description  97 non-null     object \n",
      " 6   Arrest                100 non-null    bool   \n",
      " 7   Domestic              100 non-null    bool   \n",
      " 8   Year                  100 non-null    int64  \n",
      " 9   Latitude              100 non-null    float64\n",
      " 10  Longitude             100 non-null    float64\n",
      "dtypes: bool(2), float64(2), int64(2), object(5)\n",
      "memory usage: 7.4+ KB\n"
     ]
    }
   ],
   "source": [
    "df.info()     # Information about each Series and the df, 你可以看到所有相对于表格的type信息"
   ]
  },
  {
   "cell_type": "code",
   "execution_count": 18,
   "metadata": {},
   "outputs": [
    {
     "name": "stdout",
     "output_type": "stream",
     "text": [
      "<class 'pandas.core.series.Series'>\n",
      "<class 'numpy.ndarray'>\n",
      "[41.75130706 41.90399688 41.88032861 41.92438396 41.75579713]\n",
      "0    41.751307\n",
      "1    41.903997\n",
      "2    41.880329\n",
      "3    41.924384\n",
      "4    41.755797\n",
      "Name: Latitude, dtype: float64\n",
      "1: 41.84550008439\n",
      "2: 41.84550008439\n"
     ]
    }
   ],
   "source": [
    "print(type(df['Latitude']))          # type for column\n",
    "print(type(df['Latitude'].values))   # type for values\n",
    "print(df['Latitude'].values[:5])\n",
    "print(df.Latitude.head(5))           # first five values\n",
    "print(f\"1: {df['Latitude'].mean()}\") # summarise a series/column\n",
    "print(f\"2: {df.Latitude.mean()}\")    # if no spaces in name"
   ]
  },
  {
   "cell_type": "code",
   "execution_count": 35,
   "metadata": {},
   "outputs": [
    {
     "data": {
      "text/html": [
       "<div>\n",
       "<style scoped>\n",
       "    .dataframe tbody tr th:only-of-type {\n",
       "        vertical-align: middle;\n",
       "    }\n",
       "\n",
       "    .dataframe tbody tr th {\n",
       "        vertical-align: top;\n",
       "    }\n",
       "\n",
       "    .dataframe thead th {\n",
       "        text-align: right;\n",
       "    }\n",
       "</style>\n",
       "<table border=\"1\" class=\"dataframe\">\n",
       "  <thead>\n",
       "    <tr style=\"text-align: right;\">\n",
       "      <th></th>\n",
       "      <th>ID</th>\n",
       "      <th>Case Number</th>\n",
       "      <th>Date</th>\n",
       "      <th>Primary Type</th>\n",
       "      <th>Description</th>\n",
       "      <th>Location Description</th>\n",
       "      <th>Arrest</th>\n",
       "      <th>Domestic</th>\n",
       "      <th>Year</th>\n",
       "      <th>Latitude</th>\n",
       "      <th>Longitude</th>\n",
       "    </tr>\n",
       "  </thead>\n",
       "  <tbody>\n",
       "    <tr>\n",
       "      <th>0</th>\n",
       "      <td>11667185</td>\n",
       "      <td>JC237601</td>\n",
       "      <td>04/20/2019 11:00:00 PM</td>\n",
       "      <td>BURGLARY</td>\n",
       "      <td>FORCIBLE ENTRY</td>\n",
       "      <td>COMMERCIAL / BUSINESS OFFICE</td>\n",
       "      <td>False</td>\n",
       "      <td>False</td>\n",
       "      <td>2019</td>\n",
       "      <td>41.751307</td>\n",
       "      <td>-87.603468</td>\n",
       "    </tr>\n",
       "    <tr>\n",
       "      <th>1</th>\n",
       "      <td>11909178</td>\n",
       "      <td>JC532226</td>\n",
       "      <td>12/02/2019 10:35:00 AM</td>\n",
       "      <td>DECEPTIVE PRACTICE</td>\n",
       "      <td>FRAUD OR CONFIDENCE GAME</td>\n",
       "      <td>GROCERY FOOD STORE</td>\n",
       "      <td>False</td>\n",
       "      <td>False</td>\n",
       "      <td>2019</td>\n",
       "      <td>41.903997</td>\n",
       "      <td>-87.643230</td>\n",
       "    </tr>\n",
       "    <tr>\n",
       "      <th>2</th>\n",
       "      <td>11852571</td>\n",
       "      <td>JC462365</td>\n",
       "      <td>10/06/2019 04:50:00 PM</td>\n",
       "      <td>BATTERY</td>\n",
       "      <td>AGGRAVATED DOMESTIC BATTERY - OTHER DANGEROUS ...</td>\n",
       "      <td>CLEANING STORE</td>\n",
       "      <td>True</td>\n",
       "      <td>True</td>\n",
       "      <td>2019</td>\n",
       "      <td>41.880329</td>\n",
       "      <td>-87.758473</td>\n",
       "    </tr>\n",
       "    <tr>\n",
       "      <th>3</th>\n",
       "      <td>11804855</td>\n",
       "      <td>JC405161</td>\n",
       "      <td>08/23/2019 10:00:00 PM</td>\n",
       "      <td>THEFT</td>\n",
       "      <td>OVER $500</td>\n",
       "      <td>STREET</td>\n",
       "      <td>False</td>\n",
       "      <td>False</td>\n",
       "      <td>2019</td>\n",
       "      <td>41.924384</td>\n",
       "      <td>-87.641442</td>\n",
       "    </tr>\n",
       "    <tr>\n",
       "      <th>4</th>\n",
       "      <td>11808164</td>\n",
       "      <td>JC409088</td>\n",
       "      <td>08/26/2019 12:00:00 AM</td>\n",
       "      <td>BATTERY</td>\n",
       "      <td>SIMPLE</td>\n",
       "      <td>ALLEY</td>\n",
       "      <td>False</td>\n",
       "      <td>False</td>\n",
       "      <td>2019</td>\n",
       "      <td>41.755797</td>\n",
       "      <td>-87.634426</td>\n",
       "    </tr>\n",
       "  </tbody>\n",
       "</table>\n",
       "</div>"
      ],
      "text/plain": [
       "         ID Case Number                    Date        Primary Type  \\\n",
       "0  11667185    JC237601  04/20/2019 11:00:00 PM            BURGLARY   \n",
       "1  11909178    JC532226  12/02/2019 10:35:00 AM  DECEPTIVE PRACTICE   \n",
       "2  11852571    JC462365  10/06/2019 04:50:00 PM             BATTERY   \n",
       "3  11804855    JC405161  08/23/2019 10:00:00 PM               THEFT   \n",
       "4  11808164    JC409088  08/26/2019 12:00:00 AM             BATTERY   \n",
       "\n",
       "                                         Description  \\\n",
       "0                                     FORCIBLE ENTRY   \n",
       "1                           FRAUD OR CONFIDENCE GAME   \n",
       "2  AGGRAVATED DOMESTIC BATTERY - OTHER DANGEROUS ...   \n",
       "3                                          OVER $500   \n",
       "4                                             SIMPLE   \n",
       "\n",
       "           Location Description  Arrest  Domestic  Year   Latitude  Longitude  \n",
       "0  COMMERCIAL / BUSINESS OFFICE   False     False  2019  41.751307 -87.603468  \n",
       "1            GROCERY FOOD STORE   False     False  2019  41.903997 -87.643230  \n",
       "2                CLEANING STORE    True      True  2019  41.880329 -87.758473  \n",
       "3                        STREET   False     False  2019  41.924384 -87.641442  \n",
       "4                         ALLEY   False     False  2019  41.755797 -87.634426  "
      ]
     },
     "execution_count": 35,
     "metadata": {},
     "output_type": "execute_result"
    }
   ],
   "source": [
    "df.head()"
   ]
  },
  {
   "cell_type": "code",
   "execution_count": 20,
   "metadata": {},
   "outputs": [
    {
     "data": {
      "text/html": [
       "<div>\n",
       "<style scoped>\n",
       "    .dataframe tbody tr th:only-of-type {\n",
       "        vertical-align: middle;\n",
       "    }\n",
       "\n",
       "    .dataframe tbody tr th {\n",
       "        vertical-align: top;\n",
       "    }\n",
       "\n",
       "    .dataframe thead th {\n",
       "        text-align: right;\n",
       "    }\n",
       "</style>\n",
       "<table border=\"1\" class=\"dataframe\">\n",
       "  <thead>\n",
       "    <tr style=\"text-align: right;\">\n",
       "      <th></th>\n",
       "      <th>ID</th>\n",
       "      <th>Case Number</th>\n",
       "      <th>Date</th>\n",
       "      <th>Primary Type</th>\n",
       "      <th>Description</th>\n",
       "      <th>Location Description</th>\n",
       "      <th>Arrest</th>\n",
       "      <th>Domestic</th>\n",
       "      <th>Year</th>\n",
       "      <th>Latitude</th>\n",
       "      <th>Longitude</th>\n",
       "    </tr>\n",
       "  </thead>\n",
       "  <tbody>\n",
       "    <tr>\n",
       "      <th>83</th>\n",
       "      <td>11619311</td>\n",
       "      <td>JC181055</td>\n",
       "      <td>03/10/2019 05:00:00 PM</td>\n",
       "      <td>MOTOR VEHICLE THEFT</td>\n",
       "      <td>AUTOMOBILE</td>\n",
       "      <td>STREET</td>\n",
       "      <td>False</td>\n",
       "      <td>False</td>\n",
       "      <td>2019</td>\n",
       "      <td>41.749324</td>\n",
       "      <td>-87.670688</td>\n",
       "    </tr>\n",
       "    <tr>\n",
       "      <th>53</th>\n",
       "      <td>11708996</td>\n",
       "      <td>JC288587</td>\n",
       "      <td>06/02/2019 03:15:00 AM</td>\n",
       "      <td>BATTERY</td>\n",
       "      <td>DOMESTIC BATTERY SIMPLE</td>\n",
       "      <td>APARTMENT</td>\n",
       "      <td>False</td>\n",
       "      <td>True</td>\n",
       "      <td>2019</td>\n",
       "      <td>41.972254</td>\n",
       "      <td>-87.726930</td>\n",
       "    </tr>\n",
       "    <tr>\n",
       "      <th>70</th>\n",
       "      <td>11580480</td>\n",
       "      <td>JC133698</td>\n",
       "      <td>01/29/2019 01:20:00 PM</td>\n",
       "      <td>INTERFERENCE WITH PUBLIC OFFICER</td>\n",
       "      <td>OBSTRUCTING IDENTIFICATION</td>\n",
       "      <td>STREET</td>\n",
       "      <td>True</td>\n",
       "      <td>False</td>\n",
       "      <td>2019</td>\n",
       "      <td>41.802612</td>\n",
       "      <td>-87.664807</td>\n",
       "    </tr>\n",
       "  </tbody>\n",
       "</table>\n",
       "</div>"
      ],
      "text/plain": [
       "          ID Case Number                    Date  \\\n",
       "83  11619311    JC181055  03/10/2019 05:00:00 PM   \n",
       "53  11708996    JC288587  06/02/2019 03:15:00 AM   \n",
       "70  11580480    JC133698  01/29/2019 01:20:00 PM   \n",
       "\n",
       "                        Primary Type                 Description  \\\n",
       "83               MOTOR VEHICLE THEFT                  AUTOMOBILE   \n",
       "53                           BATTERY     DOMESTIC BATTERY SIMPLE   \n",
       "70  INTERFERENCE WITH PUBLIC OFFICER  OBSTRUCTING IDENTIFICATION   \n",
       "\n",
       "   Location Description  Arrest  Domestic  Year   Latitude  Longitude  \n",
       "83               STREET   False     False  2019  41.749324 -87.670688  \n",
       "53            APARTMENT   False      True  2019  41.972254 -87.726930  \n",
       "70               STREET    True     False  2019  41.802612 -87.664807  "
      ]
     },
     "execution_count": 20,
     "metadata": {},
     "output_type": "execute_result"
    }
   ],
   "source": [
    "\n",
    "df.sample(frac=0.3)           # a random 30% sample\n",
    "df.sample(3, random_state=42) # set state of random number generator\n",
    "df.sample(3, random_state=42) # will yield same sample"
   ]
  },
  {
   "cell_type": "code",
   "execution_count": 22,
   "metadata": {},
   "outputs": [
    {
     "data": {
      "text/html": [
       "<div>\n",
       "<style scoped>\n",
       "    .dataframe tbody tr th:only-of-type {\n",
       "        vertical-align: middle;\n",
       "    }\n",
       "\n",
       "    .dataframe tbody tr th {\n",
       "        vertical-align: top;\n",
       "    }\n",
       "\n",
       "    .dataframe thead th {\n",
       "        text-align: right;\n",
       "    }\n",
       "</style>\n",
       "<table border=\"1\" class=\"dataframe\">\n",
       "  <thead>\n",
       "    <tr style=\"text-align: right;\">\n",
       "      <th></th>\n",
       "      <th>ID</th>\n",
       "      <th>Case Number</th>\n",
       "      <th>Date</th>\n",
       "      <th>Primary Type</th>\n",
       "      <th>Description</th>\n",
       "      <th>Location Description</th>\n",
       "      <th>Arrest</th>\n",
       "      <th>Domestic</th>\n",
       "      <th>Year</th>\n",
       "      <th>Latitude</th>\n",
       "      <th>Longitude</th>\n",
       "    </tr>\n",
       "  </thead>\n",
       "  <tbody>\n",
       "    <tr>\n",
       "      <th>48</th>\n",
       "      <td>11934420</td>\n",
       "      <td>JC562647</td>\n",
       "      <td>12/28/2019 03:18:00 AM</td>\n",
       "      <td>WEAPONS VIOLATION</td>\n",
       "      <td>UNLAWFUL USE HANDGUN</td>\n",
       "      <td>GAS STATION</td>\n",
       "      <td>False</td>\n",
       "      <td>False</td>\n",
       "      <td>2019</td>\n",
       "      <td>41.750783</td>\n",
       "      <td>-87.625814</td>\n",
       "    </tr>\n",
       "    <tr>\n",
       "      <th>45</th>\n",
       "      <td>11932794</td>\n",
       "      <td>JC560715</td>\n",
       "      <td>12/26/2019 11:00:00 AM</td>\n",
       "      <td>CRIMINAL DAMAGE</td>\n",
       "      <td>TO VEHICLE</td>\n",
       "      <td>PARKING LOT/GARAGE(NON.RESID.)</td>\n",
       "      <td>False</td>\n",
       "      <td>False</td>\n",
       "      <td>2019</td>\n",
       "      <td>41.883208</td>\n",
       "      <td>-87.634457</td>\n",
       "    </tr>\n",
       "    <tr>\n",
       "      <th>10</th>\n",
       "      <td>11930680</td>\n",
       "      <td>JC558223</td>\n",
       "      <td>12/23/2019 08:10:00 PM</td>\n",
       "      <td>ASSAULT</td>\n",
       "      <td>AGGRAVATED:KNIFE/CUTTING INSTR</td>\n",
       "      <td>SIDEWALK</td>\n",
       "      <td>False</td>\n",
       "      <td>False</td>\n",
       "      <td>2019</td>\n",
       "      <td>41.830697</td>\n",
       "      <td>-87.614477</td>\n",
       "    </tr>\n",
       "    <tr>\n",
       "      <th>95</th>\n",
       "      <td>11923269</td>\n",
       "      <td>JC548861</td>\n",
       "      <td>12/13/2019 09:20:00 PM</td>\n",
       "      <td>ASSAULT</td>\n",
       "      <td>SIMPLE</td>\n",
       "      <td>RESTAURANT</td>\n",
       "      <td>False</td>\n",
       "      <td>False</td>\n",
       "      <td>2019</td>\n",
       "      <td>41.890384</td>\n",
       "      <td>-87.624110</td>\n",
       "    </tr>\n",
       "    <tr>\n",
       "      <th>1</th>\n",
       "      <td>11909178</td>\n",
       "      <td>JC532226</td>\n",
       "      <td>12/02/2019 10:35:00 AM</td>\n",
       "      <td>DECEPTIVE PRACTICE</td>\n",
       "      <td>FRAUD OR CONFIDENCE GAME</td>\n",
       "      <td>GROCERY FOOD STORE</td>\n",
       "      <td>False</td>\n",
       "      <td>False</td>\n",
       "      <td>2019</td>\n",
       "      <td>41.903997</td>\n",
       "      <td>-87.643230</td>\n",
       "    </tr>\n",
       "    <tr>\n",
       "      <th>...</th>\n",
       "      <td>...</td>\n",
       "      <td>...</td>\n",
       "      <td>...</td>\n",
       "      <td>...</td>\n",
       "      <td>...</td>\n",
       "      <td>...</td>\n",
       "      <td>...</td>\n",
       "      <td>...</td>\n",
       "      <td>...</td>\n",
       "      <td>...</td>\n",
       "      <td>...</td>\n",
       "    </tr>\n",
       "    <tr>\n",
       "      <th>80</th>\n",
       "      <td>11570938</td>\n",
       "      <td>JC121904</td>\n",
       "      <td>01/11/2019 05:00:00 PM</td>\n",
       "      <td>THEFT</td>\n",
       "      <td>$500 AND UNDER</td>\n",
       "      <td>STREET</td>\n",
       "      <td>False</td>\n",
       "      <td>False</td>\n",
       "      <td>2019</td>\n",
       "      <td>41.846246</td>\n",
       "      <td>-87.628139</td>\n",
       "    </tr>\n",
       "    <tr>\n",
       "      <th>31</th>\n",
       "      <td>11568549</td>\n",
       "      <td>JC118941</td>\n",
       "      <td>01/16/2019 11:00:00 AM</td>\n",
       "      <td>ASSAULT</td>\n",
       "      <td>SIMPLE</td>\n",
       "      <td>HOSPITAL BUILDING/GROUNDS</td>\n",
       "      <td>False</td>\n",
       "      <td>False</td>\n",
       "      <td>2019</td>\n",
       "      <td>41.861081</td>\n",
       "      <td>-87.693790</td>\n",
       "    </tr>\n",
       "    <tr>\n",
       "      <th>43</th>\n",
       "      <td>11563106</td>\n",
       "      <td>JC112358</td>\n",
       "      <td>01/10/2019 11:58:00 PM</td>\n",
       "      <td>CRIMINAL DAMAGE</td>\n",
       "      <td>TO PROPERTY</td>\n",
       "      <td>SIDEWALK</td>\n",
       "      <td>False</td>\n",
       "      <td>False</td>\n",
       "      <td>2019</td>\n",
       "      <td>41.895764</td>\n",
       "      <td>-87.685558</td>\n",
       "    </tr>\n",
       "    <tr>\n",
       "      <th>60</th>\n",
       "      <td>11562562</td>\n",
       "      <td>JC111752</td>\n",
       "      <td>01/08/2019 07:00:00 PM</td>\n",
       "      <td>THEFT</td>\n",
       "      <td>OVER $500</td>\n",
       "      <td>RESIDENCE-GARAGE</td>\n",
       "      <td>False</td>\n",
       "      <td>False</td>\n",
       "      <td>2019</td>\n",
       "      <td>41.886511</td>\n",
       "      <td>-87.618196</td>\n",
       "    </tr>\n",
       "    <tr>\n",
       "      <th>46</th>\n",
       "      <td>11556674</td>\n",
       "      <td>JC104221</td>\n",
       "      <td>01/04/2019 08:40:00 AM</td>\n",
       "      <td>DECEPTIVE PRACTICE</td>\n",
       "      <td>FINANCIAL IDENTITY THEFT $300 AND UNDER</td>\n",
       "      <td>NaN</td>\n",
       "      <td>False</td>\n",
       "      <td>False</td>\n",
       "      <td>2019</td>\n",
       "      <td>41.799487</td>\n",
       "      <td>-87.593818</td>\n",
       "    </tr>\n",
       "  </tbody>\n",
       "</table>\n",
       "<p>100 rows × 11 columns</p>\n",
       "</div>"
      ],
      "text/plain": [
       "          ID Case Number                    Date        Primary Type  \\\n",
       "48  11934420    JC562647  12/28/2019 03:18:00 AM   WEAPONS VIOLATION   \n",
       "45  11932794    JC560715  12/26/2019 11:00:00 AM     CRIMINAL DAMAGE   \n",
       "10  11930680    JC558223  12/23/2019 08:10:00 PM             ASSAULT   \n",
       "95  11923269    JC548861  12/13/2019 09:20:00 PM             ASSAULT   \n",
       "1   11909178    JC532226  12/02/2019 10:35:00 AM  DECEPTIVE PRACTICE   \n",
       "..       ...         ...                     ...                 ...   \n",
       "80  11570938    JC121904  01/11/2019 05:00:00 PM               THEFT   \n",
       "31  11568549    JC118941  01/16/2019 11:00:00 AM             ASSAULT   \n",
       "43  11563106    JC112358  01/10/2019 11:58:00 PM     CRIMINAL DAMAGE   \n",
       "60  11562562    JC111752  01/08/2019 07:00:00 PM               THEFT   \n",
       "46  11556674    JC104221  01/04/2019 08:40:00 AM  DECEPTIVE PRACTICE   \n",
       "\n",
       "                                Description            Location Description  \\\n",
       "48                     UNLAWFUL USE HANDGUN                     GAS STATION   \n",
       "45                               TO VEHICLE  PARKING LOT/GARAGE(NON.RESID.)   \n",
       "10           AGGRAVATED:KNIFE/CUTTING INSTR                        SIDEWALK   \n",
       "95                                   SIMPLE                      RESTAURANT   \n",
       "1                  FRAUD OR CONFIDENCE GAME              GROCERY FOOD STORE   \n",
       "..                                      ...                             ...   \n",
       "80                           $500 AND UNDER                          STREET   \n",
       "31                                   SIMPLE       HOSPITAL BUILDING/GROUNDS   \n",
       "43                              TO PROPERTY                        SIDEWALK   \n",
       "60                                OVER $500                RESIDENCE-GARAGE   \n",
       "46  FINANCIAL IDENTITY THEFT $300 AND UNDER                             NaN   \n",
       "\n",
       "    Arrest  Domestic  Year   Latitude  Longitude  \n",
       "48   False     False  2019  41.750783 -87.625814  \n",
       "45   False     False  2019  41.883208 -87.634457  \n",
       "10   False     False  2019  41.830697 -87.614477  \n",
       "95   False     False  2019  41.890384 -87.624110  \n",
       "1    False     False  2019  41.903997 -87.643230  \n",
       "..     ...       ...   ...        ...        ...  \n",
       "80   False     False  2019  41.846246 -87.628139  \n",
       "31   False     False  2019  41.861081 -87.693790  \n",
       "43   False     False  2019  41.895764 -87.685558  \n",
       "60   False     False  2019  41.886511 -87.618196  \n",
       "46   False     False  2019  41.799487 -87.593818  \n",
       "\n",
       "[100 rows x 11 columns]"
      ]
     },
     "execution_count": 22,
     "metadata": {},
     "output_type": "execute_result"
    }
   ],
   "source": [
    "df.sort_values(['Year','ID'], ascending=False)"
   ]
  },
  {
   "cell_type": "code",
   "execution_count": 23,
   "metadata": {},
   "outputs": [
    {
     "data": {
      "text/html": [
       "<div>\n",
       "<style scoped>\n",
       "    .dataframe tbody tr th:only-of-type {\n",
       "        vertical-align: middle;\n",
       "    }\n",
       "\n",
       "    .dataframe tbody tr th {\n",
       "        vertical-align: top;\n",
       "    }\n",
       "\n",
       "    .dataframe thead th {\n",
       "        text-align: right;\n",
       "    }\n",
       "</style>\n",
       "<table border=\"1\" class=\"dataframe\">\n",
       "  <thead>\n",
       "    <tr style=\"text-align: right;\">\n",
       "      <th></th>\n",
       "      <th>ID</th>\n",
       "      <th>Case Number</th>\n",
       "      <th>Date</th>\n",
       "      <th>Primary Type</th>\n",
       "      <th>Description</th>\n",
       "      <th>Location Description</th>\n",
       "      <th>Arrest</th>\n",
       "      <th>Domestic</th>\n",
       "      <th>Year</th>\n",
       "      <th>Latitude</th>\n",
       "      <th>Longitude</th>\n",
       "    </tr>\n",
       "  </thead>\n",
       "  <tbody>\n",
       "    <tr>\n",
       "      <th>10</th>\n",
       "      <td>11930680</td>\n",
       "      <td>JC558223</td>\n",
       "      <td>12/23/2019 08:10:00 PM</td>\n",
       "      <td>ASSAULT</td>\n",
       "      <td>AGGRAVATED:KNIFE/CUTTING INSTR</td>\n",
       "      <td>SIDEWALK</td>\n",
       "      <td>False</td>\n",
       "      <td>False</td>\n",
       "      <td>2019</td>\n",
       "      <td>41.830697</td>\n",
       "      <td>-87.614477</td>\n",
       "    </tr>\n",
       "    <tr>\n",
       "      <th>29</th>\n",
       "      <td>11764675</td>\n",
       "      <td>JC356257</td>\n",
       "      <td>07/19/2019 10:00:00 PM</td>\n",
       "      <td>ASSAULT</td>\n",
       "      <td>SIMPLE</td>\n",
       "      <td>GAS STATION</td>\n",
       "      <td>False</td>\n",
       "      <td>False</td>\n",
       "      <td>2019</td>\n",
       "      <td>41.895561</td>\n",
       "      <td>-87.705846</td>\n",
       "    </tr>\n",
       "    <tr>\n",
       "      <th>31</th>\n",
       "      <td>11568549</td>\n",
       "      <td>JC118941</td>\n",
       "      <td>01/16/2019 11:00:00 AM</td>\n",
       "      <td>ASSAULT</td>\n",
       "      <td>SIMPLE</td>\n",
       "      <td>HOSPITAL BUILDING/GROUNDS</td>\n",
       "      <td>False</td>\n",
       "      <td>False</td>\n",
       "      <td>2019</td>\n",
       "      <td>41.861081</td>\n",
       "      <td>-87.693790</td>\n",
       "    </tr>\n",
       "    <tr>\n",
       "      <th>71</th>\n",
       "      <td>11629177</td>\n",
       "      <td>JC192913</td>\n",
       "      <td>03/20/2019 01:15:00 PM</td>\n",
       "      <td>ASSAULT</td>\n",
       "      <td>AGG PO HANDS NO/MIN INJURY</td>\n",
       "      <td>SIDEWALK</td>\n",
       "      <td>True</td>\n",
       "      <td>False</td>\n",
       "      <td>2019</td>\n",
       "      <td>41.803469</td>\n",
       "      <td>-87.739377</td>\n",
       "    </tr>\n",
       "    <tr>\n",
       "      <th>89</th>\n",
       "      <td>11888987</td>\n",
       "      <td>JC507074</td>\n",
       "      <td>11/11/2019 10:01:00 PM</td>\n",
       "      <td>ASSAULT</td>\n",
       "      <td>SIMPLE</td>\n",
       "      <td>APARTMENT</td>\n",
       "      <td>False</td>\n",
       "      <td>True</td>\n",
       "      <td>2019</td>\n",
       "      <td>41.998692</td>\n",
       "      <td>-87.683816</td>\n",
       "    </tr>\n",
       "    <tr>\n",
       "      <th>92</th>\n",
       "      <td>11589818</td>\n",
       "      <td>JC145197</td>\n",
       "      <td>02/06/2019 04:45:00 PM</td>\n",
       "      <td>ASSAULT</td>\n",
       "      <td>AGGRAVATED: HANDGUN</td>\n",
       "      <td>STREET</td>\n",
       "      <td>False</td>\n",
       "      <td>False</td>\n",
       "      <td>2019</td>\n",
       "      <td>41.793061</td>\n",
       "      <td>-87.703539</td>\n",
       "    </tr>\n",
       "    <tr>\n",
       "      <th>93</th>\n",
       "      <td>11688163</td>\n",
       "      <td>JC264411</td>\n",
       "      <td>05/15/2019 05:00:00 PM</td>\n",
       "      <td>ASSAULT</td>\n",
       "      <td>SIMPLE</td>\n",
       "      <td>APARTMENT</td>\n",
       "      <td>True</td>\n",
       "      <td>False</td>\n",
       "      <td>2019</td>\n",
       "      <td>41.753214</td>\n",
       "      <td>-87.595193</td>\n",
       "    </tr>\n",
       "    <tr>\n",
       "      <th>95</th>\n",
       "      <td>11923269</td>\n",
       "      <td>JC548861</td>\n",
       "      <td>12/13/2019 09:20:00 PM</td>\n",
       "      <td>ASSAULT</td>\n",
       "      <td>SIMPLE</td>\n",
       "      <td>RESTAURANT</td>\n",
       "      <td>False</td>\n",
       "      <td>False</td>\n",
       "      <td>2019</td>\n",
       "      <td>41.890384</td>\n",
       "      <td>-87.624110</td>\n",
       "    </tr>\n",
       "    <tr>\n",
       "      <th>97</th>\n",
       "      <td>11685629</td>\n",
       "      <td>JC261285</td>\n",
       "      <td>05/10/2019 05:15:00 PM</td>\n",
       "      <td>ASSAULT</td>\n",
       "      <td>AGG PRO.EMP: HANDGUN</td>\n",
       "      <td>SCHOOL, PUBLIC, GROUNDS</td>\n",
       "      <td>False</td>\n",
       "      <td>False</td>\n",
       "      <td>2019</td>\n",
       "      <td>42.003359</td>\n",
       "      <td>-87.705800</td>\n",
       "    </tr>\n",
       "  </tbody>\n",
       "</table>\n",
       "</div>"
      ],
      "text/plain": [
       "          ID Case Number                    Date Primary Type  \\\n",
       "10  11930680    JC558223  12/23/2019 08:10:00 PM      ASSAULT   \n",
       "29  11764675    JC356257  07/19/2019 10:00:00 PM      ASSAULT   \n",
       "31  11568549    JC118941  01/16/2019 11:00:00 AM      ASSAULT   \n",
       "71  11629177    JC192913  03/20/2019 01:15:00 PM      ASSAULT   \n",
       "89  11888987    JC507074  11/11/2019 10:01:00 PM      ASSAULT   \n",
       "92  11589818    JC145197  02/06/2019 04:45:00 PM      ASSAULT   \n",
       "93  11688163    JC264411  05/15/2019 05:00:00 PM      ASSAULT   \n",
       "95  11923269    JC548861  12/13/2019 09:20:00 PM      ASSAULT   \n",
       "97  11685629    JC261285  05/10/2019 05:15:00 PM      ASSAULT   \n",
       "\n",
       "                       Description       Location Description  Arrest  \\\n",
       "10  AGGRAVATED:KNIFE/CUTTING INSTR                   SIDEWALK   False   \n",
       "29                          SIMPLE                GAS STATION   False   \n",
       "31                          SIMPLE  HOSPITAL BUILDING/GROUNDS   False   \n",
       "71      AGG PO HANDS NO/MIN INJURY                   SIDEWALK    True   \n",
       "89                          SIMPLE                  APARTMENT   False   \n",
       "92             AGGRAVATED: HANDGUN                     STREET   False   \n",
       "93                          SIMPLE                  APARTMENT    True   \n",
       "95                          SIMPLE                 RESTAURANT   False   \n",
       "97            AGG PRO.EMP: HANDGUN    SCHOOL, PUBLIC, GROUNDS   False   \n",
       "\n",
       "    Domestic  Year   Latitude  Longitude  \n",
       "10     False  2019  41.830697 -87.614477  \n",
       "29     False  2019  41.895561 -87.705846  \n",
       "31     False  2019  41.861081 -87.693790  \n",
       "71     False  2019  41.803469 -87.739377  \n",
       "89      True  2019  41.998692 -87.683816  \n",
       "92     False  2019  41.793061 -87.703539  \n",
       "93     False  2019  41.753214 -87.595193  \n",
       "95     False  2019  41.890384 -87.624110  \n",
       "97     False  2019  42.003359 -87.705800  "
      ]
     },
     "execution_count": 23,
     "metadata": {},
     "output_type": "execute_result"
    }
   ],
   "source": [
    "df[\n",
    "  df['Primary Type']=='ASSAULT'\n",
    "]"
   ]
  },
  {
   "cell_type": "code",
   "execution_count": 24,
   "metadata": {},
   "outputs": [
    {
     "data": {
      "text/plain": [
       "Longitude   -87.673994\n",
       "Latitude     41.869946\n",
       "dtype: float64"
      ]
     },
     "execution_count": 24,
     "metadata": {},
     "output_type": "execute_result"
    }
   ],
   "source": [
    "df[df['Primary Type']=='ASSAULT'][['Longitude','Latitude']].mean()"
   ]
  },
  {
   "cell_type": "code",
   "execution_count": 26,
   "metadata": {},
   "outputs": [
    {
     "name": "stdout",
     "output_type": "stream",
     "text": [
      "['BURGLARY', 'DECEPTIVE PRACTICE', 'BATTERY', 'THEFT', 'NARCOTICS', ..., 'WEAPONS VIOLATION', 'SEX OFFENSE', 'CRIMINAL SEXUAL ASSAULT', 'ROBBERY', 'INTERFERENCE WITH PUBLIC OFFICER']\n",
      "Length: 15\n",
      "Categories (15, object): ['BURGLARY', 'DECEPTIVE PRACTICE', 'BATTERY', 'THEFT', ..., 'SEX OFFENSE', 'CRIMINAL SEXUAL ASSAULT', 'ROBBERY', 'INTERFERENCE WITH PUBLIC OFFICER']\n",
      "category\n"
     ]
    }
   ],
   "source": [
    "print(df['Primary Type'].unique()) # Find unique values\n",
    "print(df['Primary Type'].dtype.name)"
   ]
  },
  {
   "cell_type": "code",
   "execution_count": 27,
   "metadata": {},
   "outputs": [
    {
     "name": "stdout",
     "output_type": "stream",
     "text": [
      "category\n",
      "count       100\n",
      "unique       15\n",
      "top       THEFT\n",
      "freq         28\n",
      "Name: Primary Type, dtype: object\n"
     ]
    }
   ],
   "source": [
    "df['Primary Type'] = df['Primary Type'].astype('category')\n",
    "print(df['Primary Type'].dtype.name)\n",
    "print(df['Primary Type'].describe())"
   ]
  },
  {
   "cell_type": "code",
   "execution_count": 28,
   "metadata": {},
   "outputs": [
    {
     "data": {
      "text/plain": [
       "['04/20/2019 11:00:00 PM', '12/02/2019 10:35:00 AM', '10/06/2019 04:50:00 PM']"
      ]
     },
     "execution_count": 28,
     "metadata": {},
     "output_type": "execute_result"
    }
   ],
   "source": [
    "df.Date.to_list()[:3]"
   ]
  },
  {
   "cell_type": "code",
   "execution_count": 29,
   "metadata": {},
   "outputs": [],
   "source": [
    "df['dt'] = pd.to_datetime(df.Date.values, \n",
    "              format=\"%m/%d/%Y %H:%M:%S %p\")"
   ]
  },
  {
   "cell_type": "code",
   "execution_count": 34,
   "metadata": {},
   "outputs": [
    {
     "data": {
      "text/plain": [
       "'datetime64[ns]'"
      ]
     },
     "execution_count": 34,
     "metadata": {},
     "output_type": "execute_result"
    }
   ],
   "source": [
    "df['dt'].dtype.name"
   ]
  },
  {
   "cell_type": "code",
   "execution_count": 42,
   "metadata": {},
   "outputs": [
    {
     "data": {
      "text/plain": [
       "['ASSAULT',\n",
       " 'BATTERY',\n",
       " 'BURGLARY',\n",
       " 'CRIMINAL DAMAGE',\n",
       " 'CRIMINAL SEXUAL ASSAULT',\n",
       " 'DECEPTIVE PRACTICE',\n",
       " 'INTERFERENCE WITH PUBLIC OFFICER',\n",
       " 'MOTOR VEHICLE THEFT',\n",
       " 'NARCOTICS',\n",
       " 'OTHER OFFENSE',\n",
       " 'ROBBERY',\n",
       " 'SEX OFFENSE',\n",
       " 'STALKING',\n",
       " 'THEFT',\n",
       " 'WEAPONS VIOLATION']"
      ]
     },
     "execution_count": 42,
     "metadata": {},
     "output_type": "execute_result"
    }
   ],
   "source": [
    "df['Primary Type'].cat.categories.to_list()"
   ]
  },
  {
   "cell_type": "code",
   "execution_count": 36,
   "metadata": {},
   "outputs": [
    {
     "name": "stdout",
     "output_type": "stream",
     "text": [
      "{'ASSAULT': 'Assault', 'BATTERY': 'Battery', 'BURGLARY': 'Burglary', 'CRIMINAL DAMAGE': 'Criminal Damage', 'CRIMINAL SEXUAL ASSAULT': 'Criminal Sexual Assault', 'DECEPTIVE PRACTICE': 'Deceptive Practice', 'INTERFERENCE WITH PUBLIC OFFICER': 'Interference With Public Officer', 'MOTOR VEHICLE THEFT': 'Motor Vehicle Theft', 'NARCOTICS': 'Narcotics', 'OTHER OFFENSE': 'Other Offense', 'ROBBERY': 'Robbery', 'SEX OFFENSE': 'Sex Offense', 'STALKING': 'Stalking', 'THEFT': 'Theft', 'WEAPONS VIOLATION': 'Weapons Violation'}\n"
     ]
    }
   ],
   "source": [
    "# Fix categories\n",
    "mapping = {}\n",
    "# df['Primary Type'].unique().to_list() also works\n",
    "for x in df['Primary Type'].cat.categories.to_list():\n",
    "    mapping[x]=x.title()\n",
    "print(mapping)"
   ]
  },
  {
   "cell_type": "code",
   "execution_count": 44,
   "metadata": {},
   "outputs": [],
   "source": [
    "df['Primary Type'] = df['Primary Type'].cat.rename_categories(mapping)"
   ]
  },
  {
   "cell_type": "code",
   "execution_count": 45,
   "metadata": {},
   "outputs": [
    {
     "data": {
      "text/plain": [
       "0               Burglary\n",
       "1     Deceptive Practice\n",
       "2                Battery\n",
       "3                  Theft\n",
       "4                Battery\n",
       "             ...        \n",
       "95               Assault\n",
       "96               Battery\n",
       "97               Assault\n",
       "98                 Theft\n",
       "99             Narcotics\n",
       "Name: Primary Type, Length: 100, dtype: category\n",
       "Categories (15, object): ['Assault', 'Battery', 'Burglary', 'Criminal Damage', ..., 'Sex Offense', 'Stalking', 'Theft', 'Weapons Violation']"
      ]
     },
     "execution_count": 45,
     "metadata": {},
     "output_type": "execute_result"
    }
   ],
   "source": [
    "df['Primary Type']"
   ]
  },
  {
   "cell_type": "code",
   "execution_count": 48,
   "metadata": {},
   "outputs": [
    {
     "data": {
      "text/html": [
       "<div>\n",
       "<style scoped>\n",
       "    .dataframe tbody tr th:only-of-type {\n",
       "        vertical-align: middle;\n",
       "    }\n",
       "\n",
       "    .dataframe tbody tr th {\n",
       "        vertical-align: top;\n",
       "    }\n",
       "\n",
       "    .dataframe thead th {\n",
       "        text-align: right;\n",
       "    }\n",
       "</style>\n",
       "<table border=\"1\" class=\"dataframe\">\n",
       "  <thead>\n",
       "    <tr style=\"text-align: right;\">\n",
       "      <th></th>\n",
       "      <th>ID</th>\n",
       "      <th>Case Number</th>\n",
       "    </tr>\n",
       "  </thead>\n",
       "  <tbody>\n",
       "    <tr>\n",
       "      <th>0</th>\n",
       "      <td>11667185</td>\n",
       "      <td>JC237601</td>\n",
       "    </tr>\n",
       "    <tr>\n",
       "      <th>1</th>\n",
       "      <td>11909178</td>\n",
       "      <td>JC532226</td>\n",
       "    </tr>\n",
       "    <tr>\n",
       "      <th>2</th>\n",
       "      <td>11852571</td>\n",
       "      <td>JC462365</td>\n",
       "    </tr>\n",
       "  </tbody>\n",
       "</table>\n",
       "</div>"
      ],
      "text/plain": [
       "         ID Case Number\n",
       "0  11667185    JC237601\n",
       "1  11909178    JC532226\n",
       "2  11852571    JC462365"
      ]
     },
     "execution_count": 48,
     "metadata": {},
     "output_type": "execute_result"
    }
   ],
   "source": [
    "df.iloc[0:2,0:2] # List selection! (':' means 'all')\n",
    "df.loc[0:2,['ID','Case Number']] # Dict selection"
   ]
  },
  {
   "cell_type": "code",
   "execution_count": 49,
   "metadata": {},
   "outputs": [],
   "source": [
    "###Logics!!!!"
   ]
  },
  {
   "cell_type": "code",
   "execution_count": 50,
   "metadata": {},
   "outputs": [
    {
     "name": "stdout",
     "output_type": "stream",
     "text": [
      "x\n",
      "x or y\n",
      "x and not y\n",
      "not x and y\n"
     ]
    }
   ],
   "source": [
    "x= True\n",
    "y= False\n",
    "if x:\n",
    "  print(\"x\")\n",
    "if x and y:\n",
    "  print(\"x and y\")\n",
    "if x or y:\n",
    "  print(\"x or y\")\n",
    "if x and not y:\n",
    "  print(\"x and not y\")\n",
    "if not(x and y):\n",
    "  print(\"not x and y\")"
   ]
  },
  {
   "cell_type": "code",
   "execution_count": 57,
   "metadata": {},
   "outputs": [
    {
     "name": "stdout",
     "output_type": "stream",
     "text": [
      "100110\n",
      "11\n"
     ]
    }
   ],
   "source": [
    "x=38\n",
    "y=3\n",
    "print(f\"{x:b}\") # `:b` means byte-format\n",
    "print(f\"{y:b}\")"
   ]
  },
  {
   "cell_type": "code",
   "execution_count": 55,
   "metadata": {},
   "outputs": [
    {
     "name": "stdout",
     "output_type": "stream",
     "text": [
      "0\n",
      "10\n",
      "100111\n",
      "100100\n"
     ]
    }
   ],
   "source": [
    "print(f\"{0:b}\")\n",
    "print(\"{0:b}\".format( x & y ))\n",
    "\n",
    "print(\"{0:b}\".format( x | y ))\n",
    "\n",
    "print(\"{0:b}\".format( x & ~y ))\n"
   ]
  },
  {
   "cell_type": "code",
   "execution_count": 59,
   "metadata": {},
   "outputs": [
    {
     "name": "stdout",
     "output_type": "stream",
     "text": [
      "<class 'float'>\n",
      "<class 'NoneType'>\n"
     ]
    }
   ],
   "source": [
    "print(type(np.nan))\n",
    "print(type(None))"
   ]
  },
  {
   "cell_type": "code",
   "execution_count": 58,
   "metadata": {},
   "outputs": [
    {
     "name": "stdout",
     "output_type": "stream",
     "text": [
      "False\n",
      "True\n"
     ]
    }
   ],
   "source": [
    "import numpy as np\n",
    "print(np.nan==np.nan)\n",
    "print(np.nan is np.nan)"
   ]
  },
  {
   "cell_type": "code",
   "execution_count": 60,
   "metadata": {},
   "outputs": [
    {
     "name": "stdout",
     "output_type": "stream",
     "text": [
      "False\n",
      "{'oranges', 'cherry', 'banana'}\n",
      "{'tomato'}\n",
      "{'potato', 'banana', 'tomato', 'cherry', 'celery', 'oranges', 'carrot'}\n"
     ]
    }
   ],
   "source": [
    "s1 = {'cherry','oranges','banana','tomato'} # Or s1(...)\n",
    "s2 = {'potato','celery','carrot','tomato'} # Or s2(...)\n",
    "print('potato' in s1) # Same as for lists\n",
    "print(s1.difference(s2))\n",
    "\n",
    "print(s1.intersection(s2))\n",
    "\n",
    "print(s1.union(s2))"
   ]
  },
  {
   "cell_type": "code",
   "execution_count": 63,
   "metadata": {},
   "outputs": [
    {
     "name": "stdout",
     "output_type": "stream",
     "text": [
      "[0, 0, 0, 0, 0, 0, 0, 0, 0, 0]\n",
      "[9884, 10141, 10027, 10046, 10092, 10013, 9945, 9947, 9895, 10010]\n"
     ]
    }
   ],
   "source": [
    "import random\n",
    "size = 10\n",
    "data = [0] * size\n",
    "print(data)\n",
    "tests = 100000\n",
    "while tests > 0:\n",
    "    data[random.randint(0,len(data)-1)] += 1\n",
    "    tests -= 1\n",
    "\n",
    "print(data)"
   ]
  },
  {
   "cell_type": "code",
   "execution_count": 64,
   "metadata": {},
   "outputs": [
    {
     "data": {
      "image/png": "[encoded data removed]",
      "text/plain": [
       "<Figure size 432x288 with 1 Axes>"
      ]
     },
     "metadata": {
      "needs_background": "light"
     },
     "output_type": "display_data"
    }
   ],
   "source": [
    "import random \n",
    "from matplotlib import pyplot as plt\n",
    "import numpy as np\n",
    "\n",
    "size = 1000\n",
    "data = [0] * size\n",
    "\n",
    "tests = 10000000\n",
    "while tests > 0:\n",
    "    data[random.randint(0,len(data)-1)] += 1\n",
    "    tests -= 1\n",
    "\n",
    "fig = plt.figure()\n",
    "plt.bar(np.arange(0,len(data)), data)\n",
    "fig.savefig('Random.png', dpi=150, transparent=True)"
   ]
  },
  {
   "cell_type": "code",
   "execution_count": 67,
   "metadata": {},
   "outputs": [
    {
     "name": "stdout",
     "output_type": "stream",
     "text": [
      "None\n",
      "None\n"
     ]
    }
   ],
   "source": [
    "import random\n",
    "print(random.seed(42))\n",
    "\n",
    "import numpy as np\n",
    "print(np.random.seed(42))"
   ]
  },
  {
   "cell_type": "code",
   "execution_count": 69,
   "metadata": {},
   "outputs": [
    {
     "name": "stdout",
     "output_type": "stream",
     "text": [
      "Repetition 0:\n",
      "\t[10, 1, 0, 4, 3, 3, 2, 1, 10, 8]\n",
      "Repetition 1:\n",
      "\t[10, 1, 0, 4, 3, 3, 2, 1, 10, 8]\n",
      "Repetition 2:\n",
      "\t[10, 1, 0, 4, 3, 3, 2, 1, 10, 8]\n",
      "Repetition 3:\n",
      "\t[10, 1, 0, 4, 3, 3, 2, 1, 10, 8]\n",
      "Repetition 4:\n",
      "\t[10, 1, 0, 4, 3, 3, 2, 1, 10, 8]\n"
     ]
    }
   ],
   "source": [
    "import random\n",
    "random.seed(42)\n",
    "st = random.getstate()\n",
    "for r in range(0,5):\n",
    "    random.setstate(st)\n",
    "    print(f\"Repetition {r}:\")\n",
    "    ints = []\n",
    "    for i in range(0,10):\n",
    "        ints.append(random.randint(0,10))\n",
    "    print(f\"\\t{ints}\")"
   ]
  }
 ],
 "metadata": {
  "kernelspec": {
   "display_name": "Python 3",
   "language": "python",
   "name": "python3"
  },
  "language_info": {
   "codemirror_mode": {
    "name": "ipython",
    "version": 3
   },
   "file_extension": ".py",
   "mimetype": "text/x-python",
   "name": "python",
   "nbconvert_exporter": "python",
   "pygments_lexer": "ipython3",
   "version": "3.7.8"
  }
 },
 "nbformat": 4,
 "nbformat_minor": 4
}
