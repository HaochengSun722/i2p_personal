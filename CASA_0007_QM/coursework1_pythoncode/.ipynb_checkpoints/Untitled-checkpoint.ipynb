{
 "cells": [
  {
   "cell_type": "code",
   "execution_count": 1,
   "metadata": {},
   "outputs": [],
   "source": [
    "import pandas as pd\n",
    "from sklearn.linear_model import LinearRegression\n",
    "import statsmodels.api as sm\n",
    "\n",
    "import numpy as np\n",
    "\n",
    "import sklearn\n",
    "from sklearn.linear_model import LogisticRegression\n",
    "from sklearn.metrics import confusion_matrix\n",
    "\n",
    "import matplotlib.pyplot as plt\n",
    "import seaborn as sn\n",
    "\n",
    "pd.set_option('display.max_rows', 300) # specifies number of rows to show\n",
    "pd.options.display.float_format = '{:40,.4f}'.format # specifies default number format to 4 decimal places\n",
    "plt.style.use('ggplot') # specifies that graphs should use ggplot styling\n",
    "%matplotlib inline"
   ]
  },
  {
   "cell_type": "code",
   "execution_count": 2,
   "metadata": {},
   "outputs": [],
   "source": [
    "%matplotlib inline\n",
    "\n",
    "import matplotlib.pyplot as plt\n",
    "import numpy as np\n",
    "import pandas as pd\n",
    "import scipy as sp\n",
    "\n",
    "import scipy.stats as sps"
   ]
  },
  {
   "cell_type": "code",
   "execution_count": 3,
   "metadata": {},
   "outputs": [],
   "source": [
    "condition_x= pd.read_csv('coursework_1_data_2019_withoutgender.csv')"
   ]
  },
  {
   "cell_type": "code",
   "execution_count": 4,
   "metadata": {},
   "outputs": [
    {
     "name": "stdout",
     "output_type": "stream",
     "text": [
      "<class 'pandas.core.frame.DataFrame'>\n",
      "RangeIndex: 152 entries, 0 to 151\n",
      "Data columns (total 32 columns):\n",
      " #   Column                Non-Null Count  Dtype  \n",
      "---  ------                --------------  -----  \n",
      " 0   clean_air             152 non-null    int64  \n",
      " 1   clean_environ         152 non-null    int64  \n",
      " 2   health_training       152 non-null    int64  \n",
      " 3   school_awareness      152 non-null    int64  \n",
      " 4   media_awareness       152 non-null    int64  \n",
      " 5   sub_counselling       152 non-null    int64  \n",
      " 6   region                152 non-null    object \n",
      " 7   local_authority_type  152 non-null    object \n",
      " 8   Unnamed: 16           0 non-null      float64\n",
      " 9   case_gap              152 non-null    float64\n",
      " 10  clean_air_proportion  152 non-null    float64\n",
      " 11  clean_env_proportion  152 non-null    float64\n",
      " 12  health_proportion     152 non-null    float64\n",
      " 13  school_proportion     152 non-null    float64\n",
      " 14  media_proportion      152 non-null    float64\n",
      " 15  sub_proportion        152 non-null    float64\n",
      " 16  case_mean             152 non-null    float64\n",
      " 17  Unnamed: 28           0 non-null      float64\n",
      " 18  Unnamed: 29           0 non-null      float64\n",
      " 19  Unnamed: 30           0 non-null      float64\n",
      " 20  Unnamed: 31           0 non-null      float64\n",
      " 21  Unnamed: 32           0 non-null      float64\n",
      " 22  Unnamed: 33           0 non-null      float64\n",
      " 23  Unnamed: 34           0 non-null      float64\n",
      " 24  Unnamed: 35           0 non-null      float64\n",
      " 25  Unnamed: 36           0 non-null      float64\n",
      " 26  Unnamed: 37           0 non-null      float64\n",
      " 27  Unnamed: 38           0 non-null      float64\n",
      " 28  Unnamed: 39           0 non-null      float64\n",
      " 29  Unnamed: 40           0 non-null      float64\n",
      " 30  Unnamed: 41           0 non-null      float64\n",
      " 31  Unnamed: 42           1 non-null      object \n",
      "dtypes: float64(23), int64(6), object(3)\n",
      "memory usage: 38.1+ KB\n"
     ]
    }
   ],
   "source": [
    "condition_x_drop=condition_x.drop(['local_authority_area','2008_cases_total','2013_cases_total','2018_cases_total','2008_pop_total',\n",
    "                                  '2013_pop_total','2018_pop_total','total_budget','2008_proportion','2013_proportion','2018_proportion'], axis=1)\n",
    "condition_x_drop.info()"
   ]
  },
  {
   "cell_type": "code",
   "execution_count": 5,
   "metadata": {},
   "outputs": [
    {
     "name": "stdout",
     "output_type": "stream",
     "text": [
      "<class 'pandas.core.frame.DataFrame'>\n",
      "RangeIndex: 152 entries, 0 to 151\n",
      "Data columns (total 13 columns):\n",
      " #   Column                Non-Null Count  Dtype  \n",
      "---  ------                --------------  -----  \n",
      " 0   clean_air             152 non-null    int64  \n",
      " 1   clean_environ         152 non-null    int64  \n",
      " 2   health_training       152 non-null    int64  \n",
      " 3   school_awareness      152 non-null    int64  \n",
      " 4   media_awareness       152 non-null    int64  \n",
      " 5   sub_counselling       152 non-null    int64  \n",
      " 6   clean_air_proportion  152 non-null    float64\n",
      " 7   clean_env_proportion  152 non-null    float64\n",
      " 8   health_proportion     152 non-null    float64\n",
      " 9   school_proportion     152 non-null    float64\n",
      " 10  media_proportion      152 non-null    float64\n",
      " 11  sub_proportion        152 non-null    float64\n",
      " 12  case_mean             152 non-null    float64\n",
      "dtypes: float64(7), int64(6)\n",
      "memory usage: 15.6 KB\n"
     ]
    }
   ],
   "source": [
    "condition_x=condition_x_drop.drop(['case_gap','Unnamed: 28','Unnamed: 29','Unnamed: 30','Unnamed: 31','Unnamed: 32','Unnamed: 33','Unnamed: 34','Unnamed: 35','Unnamed: 36','Unnamed: 37','Unnamed: 38','Unnamed: 39','Unnamed: 40','Unnamed: 41','Unnamed: 42','Unnamed: 16','local_authority_type','region'],axis =1)\n",
    "condition_x.info()"
   ]
  },
  {
   "cell_type": "code",
   "execution_count": 6,
   "metadata": {},
   "outputs": [
    {
     "name": "stdout",
     "output_type": "stream",
     "text": [
      "<class 'pandas.core.frame.DataFrame'>\n",
      "RangeIndex: 152 entries, 0 to 151\n",
      "Data columns (total 7 columns):\n",
      " #   Column            Non-Null Count  Dtype  \n",
      "---  ------            --------------  -----  \n",
      " 0   clean_air         152 non-null    int64  \n",
      " 1   clean_environ     152 non-null    int64  \n",
      " 2   health_training   152 non-null    int64  \n",
      " 3   school_awareness  152 non-null    int64  \n",
      " 4   media_awareness   152 non-null    int64  \n",
      " 5   sub_counselling   152 non-null    int64  \n",
      " 6   case_mean         152 non-null    float64\n",
      "dtypes: float64(1), int64(6)\n",
      "memory usage: 8.4 KB\n"
     ]
    }
   ],
   "source": [
    "condition_x=condition_x.drop(['clean_air_proportion','clean_env_proportion','health_proportion','school_proportion','media_proportion','sub_proportion'],axis=1)\n",
    "condition_x.info()"
   ]
  },
  {
   "cell_type": "code",
   "execution_count": 7,
   "metadata": {},
   "outputs": [],
   "source": [
    "# calculating VIF\n",
    "# This function is partially from: https://stackoverflow.com/a/51329496/4667568\n",
    "from statsmodels.stats.outliers_influence import variance_inflation_factor \n",
    "from statsmodels.tools.tools import add_constant\n",
    "\n",
    "def drop_column_using_vif_(df, thresh=5):\n",
    "    '''\n",
    "    Calculates VIF each feature in a pandas dataframe, and repeatedly drop the columns with the highest VIF\n",
    "    A constant must be added to variance_inflation_factor or the results will be incorrect\n",
    "\n",
    "    :param df: the pandas dataframe containing only the predictor features, not the response variable\n",
    "    :param thresh: the max VIF value before the feature is removed from the dataframe\n",
    "    :return: dataframe with multicollinear features removed\n",
    "    '''\n",
    "    while True:\n",
    "        # adding a constatnt item to the data\n",
    "        df_with_const = add_constant(df)\n",
    "\n",
    "        vif_df = pd.Series([variance_inflation_factor(df_with_const.values, i) \n",
    "               for i in range(df_with_const.shape[1])], name= \"VIF\",\n",
    "              index=df_with_const.columns).to_frame()\n",
    "\n",
    "        # drop the const\n",
    "        vif_df = vif_df.drop('const')\n",
    "        \n",
    "        # if the largest VIF is above the thresh, remove a variable with the largest VIF\n",
    "        if vif_df.VIF.max() > thresh:\n",
    "            # If there are multiple variables with the maximum VIF, choose the first one\n",
    "            index_to_drop = vif_df.index[vif_df.VIF == vif_df.VIF.max()].tolist()[0]\n",
    "            print('Dropping: {}'.format(index_to_drop))\n",
    "            df = df.drop(columns = index_to_drop)\n",
    "        else:\n",
    "            # No VIF is above threshold. Exit the loop\n",
    "            break\n",
    "\n",
    "    return df"
   ]
  },
  {
   "cell_type": "code",
   "execution_count": 8,
   "metadata": {},
   "outputs": [
    {
     "name": "stdout",
     "output_type": "stream",
     "text": [
      "The columns remaining after VIF selection are:\n",
      "Index(['clean_air', 'clean_environ', 'health_training', 'school_awareness',\n",
      "       'media_awareness', 'sub_counselling'],\n",
      "      dtype='object')\n"
     ]
    }
   ],
   "source": [
    "df_predictors_selected_VIF = drop_column_using_vif_(condition_x.drop('case_mean', axis=1))\n",
    "print(\"The columns remaining after VIF selection are:\")\n",
    "print(df_predictors_selected_VIF.columns)"
   ]
  },
  {
   "cell_type": "code",
   "execution_count": 9,
   "metadata": {},
   "outputs": [
    {
     "data": {
      "text/html": [
       "<table class=\"simpletable\">\n",
       "<caption>OLS Regression Results</caption>\n",
       "<tr>\n",
       "  <th>Dep. Variable:</th>        <td>case_mean</td>    <th>  R-squared:         </th> <td>   0.666</td>\n",
       "</tr>\n",
       "<tr>\n",
       "  <th>Model:</th>                   <td>OLS</td>       <th>  Adj. R-squared:    </th> <td>   0.653</td>\n",
       "</tr>\n",
       "<tr>\n",
       "  <th>Method:</th>             <td>Least Squares</td>  <th>  F-statistic:       </th> <td>   48.27</td>\n",
       "</tr>\n",
       "<tr>\n",
       "  <th>Date:</th>             <td>Mon, 16 Nov 2020</td> <th>  Prob (F-statistic):</th> <td>3.36e-32</td>\n",
       "</tr>\n",
       "<tr>\n",
       "  <th>Time:</th>                 <td>02:53:39</td>     <th>  Log-Likelihood:    </th> <td> -1181.0</td>\n",
       "</tr>\n",
       "<tr>\n",
       "  <th>No. Observations:</th>      <td>   152</td>      <th>  AIC:               </th> <td>   2376.</td>\n",
       "</tr>\n",
       "<tr>\n",
       "  <th>Df Residuals:</th>          <td>   145</td>      <th>  BIC:               </th> <td>   2397.</td>\n",
       "</tr>\n",
       "<tr>\n",
       "  <th>Df Model:</th>              <td>     6</td>      <th>                     </th>     <td> </td>   \n",
       "</tr>\n",
       "<tr>\n",
       "  <th>Covariance Type:</th>      <td>nonrobust</td>    <th>                     </th>     <td> </td>   \n",
       "</tr>\n",
       "</table>\n",
       "<table class=\"simpletable\">\n",
       "<tr>\n",
       "          <td></td>            <th>coef</th>     <th>std err</th>      <th>t</th>      <th>P>|t|</th>  <th>[0.025</th>    <th>0.975]</th>  \n",
       "</tr>\n",
       "<tr>\n",
       "  <th>const</th>            <td>  164.4282</td> <td>   78.115</td> <td>    2.105</td> <td> 0.037</td> <td>   10.037</td> <td>  318.820</td>\n",
       "</tr>\n",
       "<tr>\n",
       "  <th>clean_air</th>        <td>    0.0063</td> <td>    0.002</td> <td>    3.908</td> <td> 0.000</td> <td>    0.003</td> <td>    0.009</td>\n",
       "</tr>\n",
       "<tr>\n",
       "  <th>clean_environ</th>    <td>    0.0039</td> <td>    0.001</td> <td>    3.016</td> <td> 0.003</td> <td>    0.001</td> <td>    0.006</td>\n",
       "</tr>\n",
       "<tr>\n",
       "  <th>health_training</th>  <td>    0.0078</td> <td>    0.003</td> <td>    2.349</td> <td> 0.020</td> <td>    0.001</td> <td>    0.014</td>\n",
       "</tr>\n",
       "<tr>\n",
       "  <th>school_awareness</th> <td>    0.0002</td> <td>    0.001</td> <td>    0.139</td> <td> 0.889</td> <td>   -0.003</td> <td>    0.003</td>\n",
       "</tr>\n",
       "<tr>\n",
       "  <th>media_awareness</th>  <td>   -0.0010</td> <td>    0.003</td> <td>   -0.369</td> <td> 0.713</td> <td>   -0.006</td> <td>    0.004</td>\n",
       "</tr>\n",
       "<tr>\n",
       "  <th>sub_counselling</th>  <td>    0.0089</td> <td>    0.004</td> <td>    1.977</td> <td> 0.050</td> <td> 3.17e-06</td> <td>    0.018</td>\n",
       "</tr>\n",
       "</table>\n",
       "<table class=\"simpletable\">\n",
       "<tr>\n",
       "  <th>Omnibus:</th>       <td>77.042</td> <th>  Durbin-Watson:     </th> <td>   1.746</td>\n",
       "</tr>\n",
       "<tr>\n",
       "  <th>Prob(Omnibus):</th> <td> 0.000</td> <th>  Jarque-Bera (JB):  </th> <td> 398.876</td>\n",
       "</tr>\n",
       "<tr>\n",
       "  <th>Skew:</th>          <td> 1.795</td> <th>  Prob(JB):          </th> <td>2.43e-87</td>\n",
       "</tr>\n",
       "<tr>\n",
       "  <th>Kurtosis:</th>      <td>10.078</td> <th>  Cond. No.          </th> <td>2.50e+05</td>\n",
       "</tr>\n",
       "</table><br/><br/>Notes:<br/>[1] Standard Errors assume that the covariance matrix of the errors is correctly specified.<br/>[2] The condition number is large, 2.5e+05. This might indicate that there are<br/>strong multicollinearity or other numerical problems."
      ],
      "text/plain": [
       "<class 'statsmodels.iolib.summary.Summary'>\n",
       "\"\"\"\n",
       "                            OLS Regression Results                            \n",
       "==============================================================================\n",
       "Dep. Variable:              case_mean   R-squared:                       0.666\n",
       "Model:                            OLS   Adj. R-squared:                  0.653\n",
       "Method:                 Least Squares   F-statistic:                     48.27\n",
       "Date:                Mon, 16 Nov 2020   Prob (F-statistic):           3.36e-32\n",
       "Time:                        02:53:39   Log-Likelihood:                -1181.0\n",
       "No. Observations:                 152   AIC:                             2376.\n",
       "Df Residuals:                     145   BIC:                             2397.\n",
       "Df Model:                           6                                         \n",
       "Covariance Type:            nonrobust                                         \n",
       "====================================================================================\n",
       "                       coef    std err          t      P>|t|      [0.025      0.975]\n",
       "------------------------------------------------------------------------------------\n",
       "const              164.4282     78.115      2.105      0.037      10.037     318.820\n",
       "clean_air            0.0063      0.002      3.908      0.000       0.003       0.009\n",
       "clean_environ        0.0039      0.001      3.016      0.003       0.001       0.006\n",
       "health_training      0.0078      0.003      2.349      0.020       0.001       0.014\n",
       "school_awareness     0.0002      0.001      0.139      0.889      -0.003       0.003\n",
       "media_awareness     -0.0010      0.003     -0.369      0.713      -0.006       0.004\n",
       "sub_counselling      0.0089      0.004      1.977      0.050    3.17e-06       0.018\n",
       "==============================================================================\n",
       "Omnibus:                       77.042   Durbin-Watson:                   1.746\n",
       "Prob(Omnibus):                  0.000   Jarque-Bera (JB):              398.876\n",
       "Skew:                           1.795   Prob(JB):                     2.43e-87\n",
       "Kurtosis:                      10.078   Cond. No.                     2.50e+05\n",
       "==============================================================================\n",
       "\n",
       "Notes:\n",
       "[1] Standard Errors assume that the covariance matrix of the errors is correctly specified.\n",
       "[2] The condition number is large, 2.5e+05. This might indicate that there are\n",
       "strong multicollinearity or other numerical problems.\n",
       "\"\"\""
      ]
     },
     "execution_count": 9,
     "metadata": {},
     "output_type": "execute_result"
    }
   ],
   "source": [
    "model_condition_x = sm.OLS(endog=condition_x[['case_mean']], exog=sm.add_constant(df_predictors_selected_VIF)).fit()\n",
    "model_condition_x.summary()"
   ]
  },
  {
   "cell_type": "code",
   "execution_count": 33,
   "metadata": {},
   "outputs": [],
   "source": [
    "d2 = pd.read_csv('coursework_1_data_2019.csv')"
   ]
  },
  {
   "cell_type": "code",
   "execution_count": 34,
   "metadata": {},
   "outputs": [
    {
     "name": "stdout",
     "output_type": "stream",
     "text": [
      "<class 'pandas.core.frame.DataFrame'>\n",
      "RangeIndex: 152 entries, 0 to 151\n",
      "Data columns (total 35 columns):\n",
      " #   Column                Non-Null Count  Dtype  \n",
      "---  ------                --------------  -----  \n",
      " 0   local_authority_area  152 non-null    object \n",
      " 1   2008_cases_total      152 non-null    int64  \n",
      " 2   2013_cases_total      152 non-null    int64  \n",
      " 3   2018_cases_total      152 non-null    int64  \n",
      " 4   2008_pop_total        152 non-null    int64  \n",
      " 5   2013_pop_total        152 non-null    int64  \n",
      " 6   2018_pop_total        152 non-null    int64  \n",
      " 7   2008_cases_male       152 non-null    int64  \n",
      " 8   2013_cases_male       152 non-null    int64  \n",
      " 9   2018_cases_male       152 non-null    int64  \n",
      " 10  2008_pop_male         152 non-null    int64  \n",
      " 11  2013_pop_male         152 non-null    int64  \n",
      " 12  2018_pop_male         152 non-null    int64  \n",
      " 13  2008_cases_female     152 non-null    int64  \n",
      " 14  2013_cases_female     152 non-null    int64  \n",
      " 15  2018_cases_female     152 non-null    int64  \n",
      " 16  2008_pop_female       152 non-null    int64  \n",
      " 17  2013_pop_female       152 non-null    int64  \n",
      " 18  2018_pop_female       152 non-null    int64  \n",
      " 19  total_budget          152 non-null    int64  \n",
      " 20  clean_air             152 non-null    int64  \n",
      " 21  clean_environ         152 non-null    int64  \n",
      " 22  health_training       152 non-null    int64  \n",
      " 23  school_awareness      152 non-null    int64  \n",
      " 24  media_awareness       152 non-null    int64  \n",
      " 25  sub_counselling       152 non-null    int64  \n",
      " 26  region                152 non-null    object \n",
      " 27  local_authority_type  152 non-null    object \n",
      " 28  Unnamed: 28           0 non-null      float64\n",
      " 29  2008_proportion       152 non-null    float64\n",
      " 30  2013_proportion       152 non-null    float64\n",
      " 31  2018_proportion       152 non-null    float64\n",
      " 32  if_increase           152 non-null    int64  \n",
      " 33  mean_cases            152 non-null    float64\n",
      " 34  mean_pop              152 non-null    float64\n",
      "dtypes: float64(6), int64(26), object(3)\n",
      "memory usage: 41.7+ KB\n"
     ]
    }
   ],
   "source": [
    "d2.info()"
   ]
  },
  {
   "cell_type": "code",
   "execution_count": 26,
   "metadata": {},
   "outputs": [
    {
     "name": "stdout",
     "output_type": "stream",
     "text": [
      "<class 'pandas.core.frame.DataFrame'>\n",
      "RangeIndex: 152 entries, 0 to 151\n",
      "Data columns (total 35 columns):\n",
      " #   Column                Non-Null Count  Dtype  \n",
      "---  ------                --------------  -----  \n",
      " 0   local_authority_area  152 non-null    object \n",
      " 1   2008_cases_total      152 non-null    int64  \n",
      " 2   2013_cases_total      152 non-null    int64  \n",
      " 3   2018_cases_total      152 non-null    int64  \n",
      " 4   2008_pop_total        152 non-null    int64  \n",
      " 5   2013_pop_total        152 non-null    int64  \n",
      " 6   2018_pop_total        152 non-null    int64  \n",
      " 7   2008_cases_male       152 non-null    int64  \n",
      " 8   2013_cases_male       152 non-null    int64  \n",
      " 9   2018_cases_male       152 non-null    int64  \n",
      " 10  2008_pop_male         152 non-null    int64  \n",
      " 11  2013_pop_male         152 non-null    int64  \n",
      " 12  2018_pop_male         152 non-null    int64  \n",
      " 13  2008_cases_female     152 non-null    int64  \n",
      " 14  2013_cases_female     152 non-null    int64  \n",
      " 15  2018_cases_female     152 non-null    int64  \n",
      " 16  2008_pop_female       152 non-null    int64  \n",
      " 17  2013_pop_female       152 non-null    int64  \n",
      " 18  2018_pop_female       152 non-null    int64  \n",
      " 19  total_budget          152 non-null    int64  \n",
      " 20  clean_air             152 non-null    int64  \n",
      " 21  clean_environ         152 non-null    int64  \n",
      " 22  health_training       152 non-null    int64  \n",
      " 23  school_awareness      152 non-null    int64  \n",
      " 24  media_awareness       152 non-null    int64  \n",
      " 25  sub_counselling       152 non-null    int64  \n",
      " 26  region                152 non-null    object \n",
      " 27  local_authority_type  152 non-null    object \n",
      " 28  Unnamed: 28           0 non-null      float64\n",
      " 29  2008_proportion       152 non-null    float64\n",
      " 30  2013_proportion       152 non-null    float64\n",
      " 31  2018_proportion       152 non-null    float64\n",
      " 32  if_increase           152 non-null    int64  \n",
      " 33  mean_cases            152 non-null    float64\n",
      " 34  Unnamed: 34           2 non-null      float64\n",
      "dtypes: float64(6), int64(26), object(3)\n",
      "memory usage: 41.7+ KB\n"
     ]
    }
   ],
   "source": [
    "d2.info()"
   ]
  },
  {
   "cell_type": "code",
   "execution_count": 35,
   "metadata": {},
   "outputs": [
    {
     "data": {
      "image/png": "[encoded data removed]",
      "text/plain": [
       "<Figure size 432x288 with 1 Axes>"
      ]
     },
     "metadata": {
      "needs_background": "light"
     },
     "output_type": "display_data"
    },
    {
     "name": "stdout",
     "output_type": "stream",
     "text": [
      "y = 0.747 x + 5612.601\n",
      "Rsq =  0.9751888323105004\n",
      "p-value =  2.6127261256900693e-122\n"
     ]
    }
   ],
   "source": [
    "X = d2['mean_pop']\n",
    "Y = d2['total_budget']\n",
    "\n",
    "plt.xlabel('mean_pop')\n",
    "plt.ylabel('total_budget')\n",
    "\n",
    "a = plt.plot(X,Y,'.', label='original data')\n",
    "plt.xlim(2000,1600000)\n",
    "plt.ylim(1500,1200000)\n",
    "\n",
    "slope, intercept, r_value, p_value, std_err = sps.linregress(X, Y) \n",
    "\n",
    "b = plt.plot(X, X*slope + intercept, 'r', label = 'fitted line') # Plot the regression line.\n",
    "\n",
    "plt.legend()\n",
    "plt.show()\n",
    "\n",
    "print(\"y =\", round(slope,3), \"x +\", round(intercept,3))\n",
    "print(\"Rsq = \", r_value**2)\n",
    "print(\"p-value = \", p_value)"
   ]
  },
  {
   "cell_type": "code",
   "execution_count": 38,
   "metadata": {},
   "outputs": [
    {
     "name": "stdout",
     "output_type": "stream",
     "text": [
      "                            OLS Regression Results                            \n",
      "==============================================================================\n",
      "Dep. Variable:               mean_pop   R-squared:                       0.975\n",
      "Model:                            OLS   Adj. R-squared:                  0.975\n",
      "Method:                 Least Squares   F-statistic:                     5896.\n",
      "Date:                Mon, 16 Nov 2020   Prob (F-statistic):          2.61e-122\n",
      "Time:                        10:52:17   Log-Likelihood:                -1839.8\n",
      "No. Observations:                 152   AIC:                             3684.\n",
      "Df Residuals:                     150   BIC:                             3690.\n",
      "Df Model:                           1                                         \n",
      "Covariance Type:            nonrobust                                         \n",
      "================================================================================\n",
      "                   coef    std err          t      P>|t|      [0.025      0.975]\n",
      "--------------------------------------------------------------------------------\n",
      "Intercept     1465.2670   5819.828      0.252      0.802      -1e+04     1.3e+04\n",
      "total_budget     1.3060      0.017     76.783      0.000       1.272       1.340\n",
      "==============================================================================\n",
      "Omnibus:                       26.569   Durbin-Watson:                   1.715\n",
      "Prob(Omnibus):                  0.000   Jarque-Bera (JB):              121.442\n",
      "Skew:                           0.436   Prob(JB):                     4.26e-27\n",
      "Kurtosis:                       7.291   Cond. No.                     5.58e+05\n",
      "==============================================================================\n",
      "\n",
      "Notes:\n",
      "[1] Standard Errors assume that the covariance matrix of the errors is correctly specified.\n",
      "[2] The condition number is large, 5.58e+05. This might indicate that there are\n",
      "strong multicollinearity or other numerical problems.\n"
     ]
    }
   ],
   "source": [
    "import statsmodels.formula.api as smf\n",
    "import statsmodels.api as sm\n",
    "\n",
    "simple_regression_model_2 = smf.ols(formula='mean_pop ~ total_budget',data=d2).fit()\n",
    "print(simple_regression_model_2.summary())"
   ]
  },
  {
   "cell_type": "code",
   "execution_count": 39,
   "metadata": {},
   "outputs": [
    {
     "data": {
      "image/png": "[encoded data removed]",
      "text/plain": [
       "<Figure size 432x288 with 1 Axes>"
      ]
     },
     "metadata": {
      "needs_background": "light"
     },
     "output_type": "display_data"
    }
   ],
   "source": [
    "plt.scatter(simple_regression_model_2.fittedvalues, simple_regression_model_2.resid)\n",
    "# adding title and labels\n",
    "plt.xlabel('Fitted total_budget')\n",
    "plt.ylabel('Residual')\n",
    "plt.title('Residual vs. Fitted Plot of total_budget')\n",
    "plt.show()"
   ]
  },
  {
   "cell_type": "code",
   "execution_count": 40,
   "metadata": {},
   "outputs": [
    {
     "data": {
      "image/png": "[encoded data removed]",
      "text/plain": [
       "<Figure size 432x288 with 1 Axes>"
      ]
     },
     "metadata": {
      "needs_background": "light"
     },
     "output_type": "display_data"
    }
   ],
   "source": [
    "plt.figure()\n",
    "#ols.fit().model is a method to access to the residual.\n",
    "simple_regression_model_2.resid.plot.density()\n",
    "plt.show()"
   ]
  }
 ],
 "metadata": {
  "kernelspec": {
   "display_name": "Python 3",
   "language": "python",
   "name": "python3"
  },
  "language_info": {
   "codemirror_mode": {
    "name": "ipython",
    "version": 3
   },
   "file_extension": ".py",
   "mimetype": "text/x-python",
   "name": "python",
   "nbconvert_exporter": "python",
   "pygments_lexer": "ipython3",
   "version": "3.7.8"
  }
 },
 "nbformat": 4,
 "nbformat_minor": 4
}
